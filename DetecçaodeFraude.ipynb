<p align="center">
  <img src="DETTECÇÃO DE FRAUDE.jpg" >
</p>

{
  "nbformat": 4,
  "nbformat_minor": 0,
  "metadata": {
    "colab": {
      "name": "DetecçaodeFraude.ipynb",
      "provenance": [],
      "collapsed_sections": [],
      "authorship_tag": "ABX9TyMGQmIFXKQZGNULXX05JMWG",
      "include_colab_link": true
    },
    "kernelspec": {
      "name": "python3",
      "display_name": "Python 3"
    }
  },
  "cells": [
    {
      "cell_type": "markdown",
      "metadata": {
        "id": "view-in-github",
        "colab_type": "text"
      },
      "source": [
        "<a href=\"https://colab.research.google.com/github/jdomeneghini/Data_Science/blob/master/Detec%C3%A7aodeFraude.ipynb\" target=\"_parent\"><img src=\"https://colab.research.google.com/assets/colab-badge.svg\" alt=\"Open In Colab\"/></a>"
      ]
    },
    {
      "cell_type": "markdown",
      "metadata": {
        "id": "viiqlW949acX"
      },
      "source": [
        "## **Detecção de Fraude em Cartão de Crédito**\n",
        "\n",
        "A clonagem de cartão de crédito é a fraude mais praticada da atualidade, de acordo com o Serviço de Proteção do Consumidor, gerando impactos financeiros consideráveis tanto para o consumidor quanto para as instituições financeiras. \n",
        "\n",
        "Diante disso, o investimento em áreas de detecção de fraude por meio de inteligência artificial vem crescendo a cada ano e a segurança nas operadoras de cartão está cada vez mais rigorosa.\n",
        "\n",
        "O desafio deste projeto será trabalhar em cima de um dataset de grande volume, criando e testando um modelo para que possa prever e evitar possíveis transações fraudulentas.\n",
        "\n",
        "\n"
      ]
    },
    {
      "cell_type": "markdown",
      "metadata": {
        "id": "_M-JwYpER6pL"
      },
      "source": [
        "### **Importandos os dados**\n",
        "\n",
        "Os dados que usarei neste projeto foram disponibilizados por algumas empresas européias de cartão de crédito. O *dataset* representa as operações financeiras que aconteceram no período de dois dias, onde foram classificadas 492 fraudes em meio a quase 290 mil transações.\n",
        "\n",
        "Este é um conjunto de dados extremamente desbalanceado, onde as fraudes representam apenas 0,17% do total.\n",
        "\n",
        "Ele contém apenas variáveis ​​de entrada numéricas que são os resultados de uma transformação PCA *(Principal Component Analysis)*, onde foram descaracterizados devido a questões de confidencialidade. As variáveis serão representadas por [V1, V2, V3..., V28].\n"
      ]
    },
    {
      "cell_type": "code",
      "metadata": {
        "id": "-fHvCnOT9Tqb"
      },
      "source": [
        "#importanto bibliotecas necessárias\n",
        "import pandas as pd\n",
        "import numpy as np\n",
        "import matplotlib.pyplot as plt\n",
        "import seaborn as sns\n",
        "import scikitplot as skplt\n",
        "\n",
        "from sklearn.linear_model import LogisticRegression\n",
        "from sklearn.preprocessing import StandardScaler\n",
        "from sklearn.model_selection import train_test_split\n",
        "from sklearn.metrics import classification_report\n",
        "from sklearn.metrics import confusion_matrix\n",
        "from sklearn.metrics import roc_auc_score, roc_curve, accuracy_score\n",
        "from imblearn.under_sampling import RandomUnderSampler\n",
        "\n",
        "# configurar o estilo dos gráficos com o Seaborn\n",
        "sns.set_style('dark')\n",
        "\n",
        "\n",
        "\n",
        "#ocultar avisos\n",
        "from warnings import simplefilter\n",
        "simplefilter(action='ignore', category=FutureWarning)"
      ],
      "execution_count": 12,
      "outputs": []
    },
    {
      "cell_type": "code",
      "metadata": {
        "id": "4jvH-gRR9vvS"
      },
      "source": [
        "#lendo o dataset\n",
        "df= pd.read_csv(\"https://www.dropbox.com/s/b44o3t3ehmnx2b7/creditcard.csv?dl=1\")\n",
        "\n"
      ],
      "execution_count": 2,
      "outputs": []
    },
    {
      "cell_type": "markdown",
      "metadata": {
        "id": "fFlikNhdZ6QW"
      },
      "source": [
        "Com os dados importados para dentro de uma estrutura *Dataframe* - e não havendo a necessidade de mais nenhum ajuste ou configuração nesta etapa, pode-se iniciar uma análise exploratória dos dados a fim de preparar um modelo de *Machine Learning*."
      ]
    },
    {
      "cell_type": "markdown",
      "metadata": {
        "id": "2g6ONJ1CbW-y"
      },
      "source": [
        "### **Análise Exploratória**\n",
        "\n",
        "Abaixo vamos visualizar as 5 primeiras entradas do dataset utilizando o comando *head* e também veremos um resumo estatistico, utilizando o comando describe."
      ]
    },
    {
      "cell_type": "code",
      "metadata": {
        "id": "y-hHgs5KQo0y",
        "outputId": "7df14aec-3cdc-45f4-f74a-ec55614c7aa1",
        "colab": {
          "base_uri": "https://localhost:8080/",
          "height": 224
        }
      },
      "source": [
        "df.head()"
      ],
      "execution_count": null,
      "outputs": [
        {
          "output_type": "execute_result",
          "data": {
            "text/html": [
              "<div>\n",
              "<style scoped>\n",
              "    .dataframe tbody tr th:only-of-type {\n",
              "        vertical-align: middle;\n",
              "    }\n",
              "\n",
              "    .dataframe tbody tr th {\n",
              "        vertical-align: top;\n",
              "    }\n",
              "\n",
              "    .dataframe thead th {\n",
              "        text-align: right;\n",
              "    }\n",
              "</style>\n",
              "<table border=\"1\" class=\"dataframe\">\n",
              "  <thead>\n",
              "    <tr style=\"text-align: right;\">\n",
              "      <th></th>\n",
              "      <th>Time</th>\n",
              "      <th>V1</th>\n",
              "      <th>V2</th>\n",
              "      <th>V3</th>\n",
              "      <th>V4</th>\n",
              "      <th>V5</th>\n",
              "      <th>V6</th>\n",
              "      <th>V7</th>\n",
              "      <th>V8</th>\n",
              "      <th>V9</th>\n",
              "      <th>V10</th>\n",
              "      <th>V11</th>\n",
              "      <th>V12</th>\n",
              "      <th>V13</th>\n",
              "      <th>V14</th>\n",
              "      <th>V15</th>\n",
              "      <th>V16</th>\n",
              "      <th>V17</th>\n",
              "      <th>V18</th>\n",
              "      <th>V19</th>\n",
              "      <th>V20</th>\n",
              "      <th>V21</th>\n",
              "      <th>V22</th>\n",
              "      <th>V23</th>\n",
              "      <th>V24</th>\n",
              "      <th>V25</th>\n",
              "      <th>V26</th>\n",
              "      <th>V27</th>\n",
              "      <th>V28</th>\n",
              "      <th>Amount</th>\n",
              "      <th>Class</th>\n",
              "    </tr>\n",
              "  </thead>\n",
              "  <tbody>\n",
              "    <tr>\n",
              "      <th>0</th>\n",
              "      <td>0.0</td>\n",
              "      <td>-1.359807</td>\n",
              "      <td>-0.072781</td>\n",
              "      <td>2.536347</td>\n",
              "      <td>1.378155</td>\n",
              "      <td>-0.338321</td>\n",
              "      <td>0.462388</td>\n",
              "      <td>0.239599</td>\n",
              "      <td>0.098698</td>\n",
              "      <td>0.363787</td>\n",
              "      <td>0.090794</td>\n",
              "      <td>-0.551600</td>\n",
              "      <td>-0.617801</td>\n",
              "      <td>-0.991390</td>\n",
              "      <td>-0.311169</td>\n",
              "      <td>1.468177</td>\n",
              "      <td>-0.470401</td>\n",
              "      <td>0.207971</td>\n",
              "      <td>0.025791</td>\n",
              "      <td>0.403993</td>\n",
              "      <td>0.251412</td>\n",
              "      <td>-0.018307</td>\n",
              "      <td>0.277838</td>\n",
              "      <td>-0.110474</td>\n",
              "      <td>0.066928</td>\n",
              "      <td>0.128539</td>\n",
              "      <td>-0.189115</td>\n",
              "      <td>0.133558</td>\n",
              "      <td>-0.021053</td>\n",
              "      <td>149.62</td>\n",
              "      <td>0</td>\n",
              "    </tr>\n",
              "    <tr>\n",
              "      <th>1</th>\n",
              "      <td>0.0</td>\n",
              "      <td>1.191857</td>\n",
              "      <td>0.266151</td>\n",
              "      <td>0.166480</td>\n",
              "      <td>0.448154</td>\n",
              "      <td>0.060018</td>\n",
              "      <td>-0.082361</td>\n",
              "      <td>-0.078803</td>\n",
              "      <td>0.085102</td>\n",
              "      <td>-0.255425</td>\n",
              "      <td>-0.166974</td>\n",
              "      <td>1.612727</td>\n",
              "      <td>1.065235</td>\n",
              "      <td>0.489095</td>\n",
              "      <td>-0.143772</td>\n",
              "      <td>0.635558</td>\n",
              "      <td>0.463917</td>\n",
              "      <td>-0.114805</td>\n",
              "      <td>-0.183361</td>\n",
              "      <td>-0.145783</td>\n",
              "      <td>-0.069083</td>\n",
              "      <td>-0.225775</td>\n",
              "      <td>-0.638672</td>\n",
              "      <td>0.101288</td>\n",
              "      <td>-0.339846</td>\n",
              "      <td>0.167170</td>\n",
              "      <td>0.125895</td>\n",
              "      <td>-0.008983</td>\n",
              "      <td>0.014724</td>\n",
              "      <td>2.69</td>\n",
              "      <td>0</td>\n",
              "    </tr>\n",
              "    <tr>\n",
              "      <th>2</th>\n",
              "      <td>1.0</td>\n",
              "      <td>-1.358354</td>\n",
              "      <td>-1.340163</td>\n",
              "      <td>1.773209</td>\n",
              "      <td>0.379780</td>\n",
              "      <td>-0.503198</td>\n",
              "      <td>1.800499</td>\n",
              "      <td>0.791461</td>\n",
              "      <td>0.247676</td>\n",
              "      <td>-1.514654</td>\n",
              "      <td>0.207643</td>\n",
              "      <td>0.624501</td>\n",
              "      <td>0.066084</td>\n",
              "      <td>0.717293</td>\n",
              "      <td>-0.165946</td>\n",
              "      <td>2.345865</td>\n",
              "      <td>-2.890083</td>\n",
              "      <td>1.109969</td>\n",
              "      <td>-0.121359</td>\n",
              "      <td>-2.261857</td>\n",
              "      <td>0.524980</td>\n",
              "      <td>0.247998</td>\n",
              "      <td>0.771679</td>\n",
              "      <td>0.909412</td>\n",
              "      <td>-0.689281</td>\n",
              "      <td>-0.327642</td>\n",
              "      <td>-0.139097</td>\n",
              "      <td>-0.055353</td>\n",
              "      <td>-0.059752</td>\n",
              "      <td>378.66</td>\n",
              "      <td>0</td>\n",
              "    </tr>\n",
              "    <tr>\n",
              "      <th>3</th>\n",
              "      <td>1.0</td>\n",
              "      <td>-0.966272</td>\n",
              "      <td>-0.185226</td>\n",
              "      <td>1.792993</td>\n",
              "      <td>-0.863291</td>\n",
              "      <td>-0.010309</td>\n",
              "      <td>1.247203</td>\n",
              "      <td>0.237609</td>\n",
              "      <td>0.377436</td>\n",
              "      <td>-1.387024</td>\n",
              "      <td>-0.054952</td>\n",
              "      <td>-0.226487</td>\n",
              "      <td>0.178228</td>\n",
              "      <td>0.507757</td>\n",
              "      <td>-0.287924</td>\n",
              "      <td>-0.631418</td>\n",
              "      <td>-1.059647</td>\n",
              "      <td>-0.684093</td>\n",
              "      <td>1.965775</td>\n",
              "      <td>-1.232622</td>\n",
              "      <td>-0.208038</td>\n",
              "      <td>-0.108300</td>\n",
              "      <td>0.005274</td>\n",
              "      <td>-0.190321</td>\n",
              "      <td>-1.175575</td>\n",
              "      <td>0.647376</td>\n",
              "      <td>-0.221929</td>\n",
              "      <td>0.062723</td>\n",
              "      <td>0.061458</td>\n",
              "      <td>123.50</td>\n",
              "      <td>0</td>\n",
              "    </tr>\n",
              "    <tr>\n",
              "      <th>4</th>\n",
              "      <td>2.0</td>\n",
              "      <td>-1.158233</td>\n",
              "      <td>0.877737</td>\n",
              "      <td>1.548718</td>\n",
              "      <td>0.403034</td>\n",
              "      <td>-0.407193</td>\n",
              "      <td>0.095921</td>\n",
              "      <td>0.592941</td>\n",
              "      <td>-0.270533</td>\n",
              "      <td>0.817739</td>\n",
              "      <td>0.753074</td>\n",
              "      <td>-0.822843</td>\n",
              "      <td>0.538196</td>\n",
              "      <td>1.345852</td>\n",
              "      <td>-1.119670</td>\n",
              "      <td>0.175121</td>\n",
              "      <td>-0.451449</td>\n",
              "      <td>-0.237033</td>\n",
              "      <td>-0.038195</td>\n",
              "      <td>0.803487</td>\n",
              "      <td>0.408542</td>\n",
              "      <td>-0.009431</td>\n",
              "      <td>0.798278</td>\n",
              "      <td>-0.137458</td>\n",
              "      <td>0.141267</td>\n",
              "      <td>-0.206010</td>\n",
              "      <td>0.502292</td>\n",
              "      <td>0.219422</td>\n",
              "      <td>0.215153</td>\n",
              "      <td>69.99</td>\n",
              "      <td>0</td>\n",
              "    </tr>\n",
              "  </tbody>\n",
              "</table>\n",
              "</div>"
            ],
            "text/plain": [
              "   Time        V1        V2        V3  ...       V27       V28  Amount  Class\n",
              "0   0.0 -1.359807 -0.072781  2.536347  ...  0.133558 -0.021053  149.62      0\n",
              "1   0.0  1.191857  0.266151  0.166480  ... -0.008983  0.014724    2.69      0\n",
              "2   1.0 -1.358354 -1.340163  1.773209  ... -0.055353 -0.059752  378.66      0\n",
              "3   1.0 -0.966272 -0.185226  1.792993  ...  0.062723  0.061458  123.50      0\n",
              "4   2.0 -1.158233  0.877737  1.548718  ...  0.219422  0.215153   69.99      0\n",
              "\n",
              "[5 rows x 31 columns]"
            ]
          },
          "metadata": {
            "tags": []
          },
          "execution_count": 23
        }
      ]
    },
    {
      "cell_type": "markdown",
      "metadata": {
        "id": "Yr6uNry4gchW"
      },
      "source": [
        "Com estas 5 entradas podemos tirar algumas conclusões:\n",
        "\n",
        "- Pela trasnformação PCA que os dados sofreram, as features estão anônimas e os valores são todos numéricos.\n",
        "\n",
        "- A variável *'Time'* e *'Amount'*  foram preservadas e manteram seu valor original.\n",
        "\n",
        "- A variável *'Class'* é a variável de resposta e assume o valor de:\n",
        "  *   **1**: fraude\n",
        "  *   **0**: transação normal\n"
      ]
    },
    {
      "cell_type": "code",
      "metadata": {
        "id": "ZpiMnK2U_zn7",
        "outputId": "6cde4b13-ab25-4632-a736-be9fe02d02d8",
        "colab": {
          "base_uri": "https://localhost:8080/",
          "height": 317
        }
      },
      "source": [
        "df.describe()"
      ],
      "execution_count": null,
      "outputs": [
        {
          "output_type": "execute_result",
          "data": {
            "text/html": [
              "<div>\n",
              "<style scoped>\n",
              "    .dataframe tbody tr th:only-of-type {\n",
              "        vertical-align: middle;\n",
              "    }\n",
              "\n",
              "    .dataframe tbody tr th {\n",
              "        vertical-align: top;\n",
              "    }\n",
              "\n",
              "    .dataframe thead th {\n",
              "        text-align: right;\n",
              "    }\n",
              "</style>\n",
              "<table border=\"1\" class=\"dataframe\">\n",
              "  <thead>\n",
              "    <tr style=\"text-align: right;\">\n",
              "      <th></th>\n",
              "      <th>Time</th>\n",
              "      <th>V1</th>\n",
              "      <th>V2</th>\n",
              "      <th>V3</th>\n",
              "      <th>V4</th>\n",
              "      <th>V5</th>\n",
              "      <th>V6</th>\n",
              "      <th>V7</th>\n",
              "      <th>V8</th>\n",
              "      <th>V9</th>\n",
              "      <th>V10</th>\n",
              "      <th>V11</th>\n",
              "      <th>V12</th>\n",
              "      <th>V13</th>\n",
              "      <th>V14</th>\n",
              "      <th>V15</th>\n",
              "      <th>V16</th>\n",
              "      <th>V17</th>\n",
              "      <th>V18</th>\n",
              "      <th>V19</th>\n",
              "      <th>V20</th>\n",
              "      <th>V21</th>\n",
              "      <th>V22</th>\n",
              "      <th>V23</th>\n",
              "      <th>V24</th>\n",
              "      <th>V25</th>\n",
              "      <th>V26</th>\n",
              "      <th>V27</th>\n",
              "      <th>V28</th>\n",
              "      <th>Amount</th>\n",
              "      <th>Class</th>\n",
              "    </tr>\n",
              "  </thead>\n",
              "  <tbody>\n",
              "    <tr>\n",
              "      <th>count</th>\n",
              "      <td>284807.000000</td>\n",
              "      <td>2.848070e+05</td>\n",
              "      <td>2.848070e+05</td>\n",
              "      <td>2.848070e+05</td>\n",
              "      <td>2.848070e+05</td>\n",
              "      <td>2.848070e+05</td>\n",
              "      <td>2.848070e+05</td>\n",
              "      <td>2.848070e+05</td>\n",
              "      <td>2.848070e+05</td>\n",
              "      <td>2.848070e+05</td>\n",
              "      <td>2.848070e+05</td>\n",
              "      <td>2.848070e+05</td>\n",
              "      <td>2.848070e+05</td>\n",
              "      <td>2.848070e+05</td>\n",
              "      <td>2.848070e+05</td>\n",
              "      <td>2.848070e+05</td>\n",
              "      <td>2.848070e+05</td>\n",
              "      <td>2.848070e+05</td>\n",
              "      <td>2.848070e+05</td>\n",
              "      <td>2.848070e+05</td>\n",
              "      <td>2.848070e+05</td>\n",
              "      <td>2.848070e+05</td>\n",
              "      <td>2.848070e+05</td>\n",
              "      <td>2.848070e+05</td>\n",
              "      <td>2.848070e+05</td>\n",
              "      <td>2.848070e+05</td>\n",
              "      <td>2.848070e+05</td>\n",
              "      <td>2.848070e+05</td>\n",
              "      <td>2.848070e+05</td>\n",
              "      <td>284807.000000</td>\n",
              "      <td>284807.000000</td>\n",
              "    </tr>\n",
              "    <tr>\n",
              "      <th>mean</th>\n",
              "      <td>94813.859575</td>\n",
              "      <td>3.919560e-15</td>\n",
              "      <td>5.688174e-16</td>\n",
              "      <td>-8.769071e-15</td>\n",
              "      <td>2.782312e-15</td>\n",
              "      <td>-1.552563e-15</td>\n",
              "      <td>2.010663e-15</td>\n",
              "      <td>-1.694249e-15</td>\n",
              "      <td>-1.927028e-16</td>\n",
              "      <td>-3.137024e-15</td>\n",
              "      <td>1.768627e-15</td>\n",
              "      <td>9.170318e-16</td>\n",
              "      <td>-1.810658e-15</td>\n",
              "      <td>1.693438e-15</td>\n",
              "      <td>1.479045e-15</td>\n",
              "      <td>3.482336e-15</td>\n",
              "      <td>1.392007e-15</td>\n",
              "      <td>-7.528491e-16</td>\n",
              "      <td>4.328772e-16</td>\n",
              "      <td>9.049732e-16</td>\n",
              "      <td>5.085503e-16</td>\n",
              "      <td>1.537294e-16</td>\n",
              "      <td>7.959909e-16</td>\n",
              "      <td>5.367590e-16</td>\n",
              "      <td>4.458112e-15</td>\n",
              "      <td>1.453003e-15</td>\n",
              "      <td>1.699104e-15</td>\n",
              "      <td>-3.660161e-16</td>\n",
              "      <td>-1.206049e-16</td>\n",
              "      <td>88.349619</td>\n",
              "      <td>0.001727</td>\n",
              "    </tr>\n",
              "    <tr>\n",
              "      <th>std</th>\n",
              "      <td>47488.145955</td>\n",
              "      <td>1.958696e+00</td>\n",
              "      <td>1.651309e+00</td>\n",
              "      <td>1.516255e+00</td>\n",
              "      <td>1.415869e+00</td>\n",
              "      <td>1.380247e+00</td>\n",
              "      <td>1.332271e+00</td>\n",
              "      <td>1.237094e+00</td>\n",
              "      <td>1.194353e+00</td>\n",
              "      <td>1.098632e+00</td>\n",
              "      <td>1.088850e+00</td>\n",
              "      <td>1.020713e+00</td>\n",
              "      <td>9.992014e-01</td>\n",
              "      <td>9.952742e-01</td>\n",
              "      <td>9.585956e-01</td>\n",
              "      <td>9.153160e-01</td>\n",
              "      <td>8.762529e-01</td>\n",
              "      <td>8.493371e-01</td>\n",
              "      <td>8.381762e-01</td>\n",
              "      <td>8.140405e-01</td>\n",
              "      <td>7.709250e-01</td>\n",
              "      <td>7.345240e-01</td>\n",
              "      <td>7.257016e-01</td>\n",
              "      <td>6.244603e-01</td>\n",
              "      <td>6.056471e-01</td>\n",
              "      <td>5.212781e-01</td>\n",
              "      <td>4.822270e-01</td>\n",
              "      <td>4.036325e-01</td>\n",
              "      <td>3.300833e-01</td>\n",
              "      <td>250.120109</td>\n",
              "      <td>0.041527</td>\n",
              "    </tr>\n",
              "    <tr>\n",
              "      <th>min</th>\n",
              "      <td>0.000000</td>\n",
              "      <td>-5.640751e+01</td>\n",
              "      <td>-7.271573e+01</td>\n",
              "      <td>-4.832559e+01</td>\n",
              "      <td>-5.683171e+00</td>\n",
              "      <td>-1.137433e+02</td>\n",
              "      <td>-2.616051e+01</td>\n",
              "      <td>-4.355724e+01</td>\n",
              "      <td>-7.321672e+01</td>\n",
              "      <td>-1.343407e+01</td>\n",
              "      <td>-2.458826e+01</td>\n",
              "      <td>-4.797473e+00</td>\n",
              "      <td>-1.868371e+01</td>\n",
              "      <td>-5.791881e+00</td>\n",
              "      <td>-1.921433e+01</td>\n",
              "      <td>-4.498945e+00</td>\n",
              "      <td>-1.412985e+01</td>\n",
              "      <td>-2.516280e+01</td>\n",
              "      <td>-9.498746e+00</td>\n",
              "      <td>-7.213527e+00</td>\n",
              "      <td>-5.449772e+01</td>\n",
              "      <td>-3.483038e+01</td>\n",
              "      <td>-1.093314e+01</td>\n",
              "      <td>-4.480774e+01</td>\n",
              "      <td>-2.836627e+00</td>\n",
              "      <td>-1.029540e+01</td>\n",
              "      <td>-2.604551e+00</td>\n",
              "      <td>-2.256568e+01</td>\n",
              "      <td>-1.543008e+01</td>\n",
              "      <td>0.000000</td>\n",
              "      <td>0.000000</td>\n",
              "    </tr>\n",
              "    <tr>\n",
              "      <th>25%</th>\n",
              "      <td>54201.500000</td>\n",
              "      <td>-9.203734e-01</td>\n",
              "      <td>-5.985499e-01</td>\n",
              "      <td>-8.903648e-01</td>\n",
              "      <td>-8.486401e-01</td>\n",
              "      <td>-6.915971e-01</td>\n",
              "      <td>-7.682956e-01</td>\n",
              "      <td>-5.540759e-01</td>\n",
              "      <td>-2.086297e-01</td>\n",
              "      <td>-6.430976e-01</td>\n",
              "      <td>-5.354257e-01</td>\n",
              "      <td>-7.624942e-01</td>\n",
              "      <td>-4.055715e-01</td>\n",
              "      <td>-6.485393e-01</td>\n",
              "      <td>-4.255740e-01</td>\n",
              "      <td>-5.828843e-01</td>\n",
              "      <td>-4.680368e-01</td>\n",
              "      <td>-4.837483e-01</td>\n",
              "      <td>-4.988498e-01</td>\n",
              "      <td>-4.562989e-01</td>\n",
              "      <td>-2.117214e-01</td>\n",
              "      <td>-2.283949e-01</td>\n",
              "      <td>-5.423504e-01</td>\n",
              "      <td>-1.618463e-01</td>\n",
              "      <td>-3.545861e-01</td>\n",
              "      <td>-3.171451e-01</td>\n",
              "      <td>-3.269839e-01</td>\n",
              "      <td>-7.083953e-02</td>\n",
              "      <td>-5.295979e-02</td>\n",
              "      <td>5.600000</td>\n",
              "      <td>0.000000</td>\n",
              "    </tr>\n",
              "    <tr>\n",
              "      <th>50%</th>\n",
              "      <td>84692.000000</td>\n",
              "      <td>1.810880e-02</td>\n",
              "      <td>6.548556e-02</td>\n",
              "      <td>1.798463e-01</td>\n",
              "      <td>-1.984653e-02</td>\n",
              "      <td>-5.433583e-02</td>\n",
              "      <td>-2.741871e-01</td>\n",
              "      <td>4.010308e-02</td>\n",
              "      <td>2.235804e-02</td>\n",
              "      <td>-5.142873e-02</td>\n",
              "      <td>-9.291738e-02</td>\n",
              "      <td>-3.275735e-02</td>\n",
              "      <td>1.400326e-01</td>\n",
              "      <td>-1.356806e-02</td>\n",
              "      <td>5.060132e-02</td>\n",
              "      <td>4.807155e-02</td>\n",
              "      <td>6.641332e-02</td>\n",
              "      <td>-6.567575e-02</td>\n",
              "      <td>-3.636312e-03</td>\n",
              "      <td>3.734823e-03</td>\n",
              "      <td>-6.248109e-02</td>\n",
              "      <td>-2.945017e-02</td>\n",
              "      <td>6.781943e-03</td>\n",
              "      <td>-1.119293e-02</td>\n",
              "      <td>4.097606e-02</td>\n",
              "      <td>1.659350e-02</td>\n",
              "      <td>-5.213911e-02</td>\n",
              "      <td>1.342146e-03</td>\n",
              "      <td>1.124383e-02</td>\n",
              "      <td>22.000000</td>\n",
              "      <td>0.000000</td>\n",
              "    </tr>\n",
              "    <tr>\n",
              "      <th>75%</th>\n",
              "      <td>139320.500000</td>\n",
              "      <td>1.315642e+00</td>\n",
              "      <td>8.037239e-01</td>\n",
              "      <td>1.027196e+00</td>\n",
              "      <td>7.433413e-01</td>\n",
              "      <td>6.119264e-01</td>\n",
              "      <td>3.985649e-01</td>\n",
              "      <td>5.704361e-01</td>\n",
              "      <td>3.273459e-01</td>\n",
              "      <td>5.971390e-01</td>\n",
              "      <td>4.539234e-01</td>\n",
              "      <td>7.395934e-01</td>\n",
              "      <td>6.182380e-01</td>\n",
              "      <td>6.625050e-01</td>\n",
              "      <td>4.931498e-01</td>\n",
              "      <td>6.488208e-01</td>\n",
              "      <td>5.232963e-01</td>\n",
              "      <td>3.996750e-01</td>\n",
              "      <td>5.008067e-01</td>\n",
              "      <td>4.589494e-01</td>\n",
              "      <td>1.330408e-01</td>\n",
              "      <td>1.863772e-01</td>\n",
              "      <td>5.285536e-01</td>\n",
              "      <td>1.476421e-01</td>\n",
              "      <td>4.395266e-01</td>\n",
              "      <td>3.507156e-01</td>\n",
              "      <td>2.409522e-01</td>\n",
              "      <td>9.104512e-02</td>\n",
              "      <td>7.827995e-02</td>\n",
              "      <td>77.165000</td>\n",
              "      <td>0.000000</td>\n",
              "    </tr>\n",
              "    <tr>\n",
              "      <th>max</th>\n",
              "      <td>172792.000000</td>\n",
              "      <td>2.454930e+00</td>\n",
              "      <td>2.205773e+01</td>\n",
              "      <td>9.382558e+00</td>\n",
              "      <td>1.687534e+01</td>\n",
              "      <td>3.480167e+01</td>\n",
              "      <td>7.330163e+01</td>\n",
              "      <td>1.205895e+02</td>\n",
              "      <td>2.000721e+01</td>\n",
              "      <td>1.559499e+01</td>\n",
              "      <td>2.374514e+01</td>\n",
              "      <td>1.201891e+01</td>\n",
              "      <td>7.848392e+00</td>\n",
              "      <td>7.126883e+00</td>\n",
              "      <td>1.052677e+01</td>\n",
              "      <td>8.877742e+00</td>\n",
              "      <td>1.731511e+01</td>\n",
              "      <td>9.253526e+00</td>\n",
              "      <td>5.041069e+00</td>\n",
              "      <td>5.591971e+00</td>\n",
              "      <td>3.942090e+01</td>\n",
              "      <td>2.720284e+01</td>\n",
              "      <td>1.050309e+01</td>\n",
              "      <td>2.252841e+01</td>\n",
              "      <td>4.584549e+00</td>\n",
              "      <td>7.519589e+00</td>\n",
              "      <td>3.517346e+00</td>\n",
              "      <td>3.161220e+01</td>\n",
              "      <td>3.384781e+01</td>\n",
              "      <td>25691.160000</td>\n",
              "      <td>1.000000</td>\n",
              "    </tr>\n",
              "  </tbody>\n",
              "</table>\n",
              "</div>"
            ],
            "text/plain": [
              "                Time            V1  ...         Amount          Class\n",
              "count  284807.000000  2.848070e+05  ...  284807.000000  284807.000000\n",
              "mean    94813.859575  3.919560e-15  ...      88.349619       0.001727\n",
              "std     47488.145955  1.958696e+00  ...     250.120109       0.041527\n",
              "min         0.000000 -5.640751e+01  ...       0.000000       0.000000\n",
              "25%     54201.500000 -9.203734e-01  ...       5.600000       0.000000\n",
              "50%     84692.000000  1.810880e-02  ...      22.000000       0.000000\n",
              "75%    139320.500000  1.315642e+00  ...      77.165000       0.000000\n",
              "max    172792.000000  2.454930e+00  ...   25691.160000       1.000000\n",
              "\n",
              "[8 rows x 31 columns]"
            ]
          },
          "metadata": {
            "tags": []
          },
          "execution_count": 3
        }
      ]
    },
    {
      "cell_type": "markdown",
      "metadata": {
        "id": "vc-YkTmyiHGE"
      },
      "source": [
        "Analisando brevemente este resumo estatístico conseguimos ver que aparentemente não tem nenhuma discrepância entre os dados. "
      ]
    },
    {
      "cell_type": "markdown",
      "metadata": {
        "id": "mocWyUgKcGc3"
      },
      "source": [
        "É importante também verificar se o dataset possui valores ausentes, quando presentes é preciso analisá-los pois eles podem afetar as estatísticas dos dados.\n"
      ]
    },
    {
      "cell_type": "code",
      "metadata": {
        "id": "YZtDF0F0AQx4",
        "outputId": "57bad45a-f337-4d9f-a926-0ebb3dd8b24e",
        "colab": {
          "base_uri": "https://localhost:8080/",
          "height": 561
        }
      },
      "source": [
        "df.isnull().sum()"
      ],
      "execution_count": null,
      "outputs": [
        {
          "output_type": "execute_result",
          "data": {
            "text/plain": [
              "Time      0\n",
              "V1        0\n",
              "V2        0\n",
              "V3        0\n",
              "V4        0\n",
              "V5        0\n",
              "V6        0\n",
              "V7        0\n",
              "V8        0\n",
              "V9        0\n",
              "V10       0\n",
              "V11       0\n",
              "V12       0\n",
              "V13       0\n",
              "V14       0\n",
              "V15       0\n",
              "V16       0\n",
              "V17       0\n",
              "V18       0\n",
              "V19       0\n",
              "V20       0\n",
              "V21       0\n",
              "V22       0\n",
              "V23       0\n",
              "V24       0\n",
              "V25       0\n",
              "V26       0\n",
              "V27       0\n",
              "V28       0\n",
              "Amount    0\n",
              "Class     0\n",
              "dtype: int64"
            ]
          },
          "metadata": {
            "tags": []
          },
          "execution_count": 4
        }
      ]
    },
    {
      "cell_type": "markdown",
      "metadata": {
        "id": "AyQKrqX9cgrs"
      },
      "source": [
        "Neste caso, o dataset não possuem dados ausentes."
      ]
    },
    {
      "cell_type": "markdown",
      "metadata": {
        "id": "aXDgTJjzkSYb"
      },
      "source": [
        "\n",
        "Como informado acima, as entradas relativas a fraudes correspondem a 0,17% do total. Assim irei plotar um gráfico para verificarmos como ficará este valor na distribuição da nossa variável 'Class'. "
      ]
    },
    {
      "cell_type": "code",
      "metadata": {
        "id": "0hpqmKxYA9J8",
        "outputId": "176ac3b3-1be5-4481-f737-9aa6ae3a58c0",
        "colab": {
          "base_uri": "https://localhost:8080/",
          "height": 399
        }
      },
      "source": [
        "#grafico de barras para verificar a distribuição das Classes\n",
        "\n",
        "fig, ax = plt.subplots()\n",
        "sns.countplot('Class', data=df, ax=ax)\n",
        "ax.set_title('Distribuição das Classes')\n",
        "plt.tight_layout();\n",
        "\n",
        "\n",
        "print(df.Class.value_counts())\n",
        "print('\\nQuantos % as fraudes representam no dataset: {:.4f}%\\n'.format(df[df.Class ==1].shape[0]/ df.shape[0] * 100))\n",
        "\n"
      ],
      "execution_count": null,
      "outputs": [
        {
          "output_type": "stream",
          "text": [
            "0    284315\n",
            "1       492\n",
            "Name: Class, dtype: int64\n",
            "\n",
            "Quantos % as fraudes representam no dataset: 0.1727%\n",
            "\n"
          ],
          "name": "stdout"
        },
        {
          "output_type": "display_data",
          "data": {
            "image/png": "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\n",
            "text/plain": [
              "<Figure size 432x288 with 1 Axes>"
            ]
          },
          "metadata": {
            "tags": [],
            "needs_background": "light"
          }
        }
      ]
    },
    {
      "cell_type": "markdown",
      "metadata": {
        "id": "091VPeMjd7dV"
      },
      "source": [
        "Através deste gráfico se torna nítida a discrepância entre as entradas dos dados. Na prática isso interfere no desempenho do modelo e será necessário fazer um balanceamento dos dados antes de partir para criação do modelo de classificação. "
      ]
    },
    {
      "cell_type": "markdown",
      "metadata": {
        "id": "GBB7to6cnx6k"
      },
      "source": [
        "O gráfico abaixo mostrará os segundo decorridos entre as transações normais e as transações onde ocorreram as fraudes.\n"
      ]
    },
    {
      "cell_type": "code",
      "metadata": {
        "id": "uAxN7Af3thvf",
        "outputId": "b2002093-d4e4-454b-96ae-7faf858c2d19",
        "colab": {
          "base_uri": "https://localhost:8080/",
          "height": 441
        }
      },
      "source": [
        "#grafico de barras para verificar a distribuição da variavel time x classe\n",
        "\n",
        "fig, ax= plt.subplots(nrows=2, ncols=1, figsize=(12,6))\n",
        "num_bins= 40\n",
        "ax[0].hist(df.Time[df.Class == 0], bins=num_bins)\n",
        "ax[0].set_title('Normal')\n",
        "\n",
        "ax[1].hist(df.Time[df.Class == 1], bins= num_bins)\n",
        "ax[1].set_title('Fraude')\n",
        "\n",
        "plt.xlabel('Tempo (segundos)')\n",
        "plt.ylabel('Qtd de Transações')\n",
        "plt.tight_layout();"
      ],
      "execution_count": null,
      "outputs": [
        {
          "output_type": "display_data",
          "data": {
            "image/png": "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\n",
            "text/plain": [
              "<Figure size 864x432 with 2 Axes>"
            ]
          },
          "metadata": {
            "tags": []
          }
        }
      ]
    },
    {
      "cell_type": "markdown",
      "metadata": {
        "id": "aWSGsSuIfpex"
      },
      "source": [
        "Nenhuma informação relevante diante desta distribuição de frequência."
      ]
    },
    {
      "cell_type": "markdown",
      "metadata": {
        "id": "ERfTCH03oakW"
      },
      "source": [
        "Seguindo para a variável *'Amount'*, irei gerar um gráfico boxplot para notarmos diferenças no padrão entre as transações."
      ]
    },
    {
      "cell_type": "code",
      "metadata": {
        "id": "NOhNp3P60BE0",
        "outputId": "7093df3e-f953-41f1-c3fc-fde65b2f20c9",
        "colab": {
          "base_uri": "https://localhost:8080/",
          "height": 729
        }
      },
      "source": [
        "#boxplot para variavel Amount\n",
        "fig, ax= plt.subplots(figsize=(6,10))\n",
        "\n",
        "sns.boxplot(df.Class, df.Amount, ax=ax)\n",
        "plt.ylim((-30, 400))\n",
        "plt.xticks([0, 1], ['Normal', 'Fraude'])\n",
        "\n",
        "plt.xlabel('Classe')\n",
        "plt.ylabel('Qtd de Transações')\n",
        "plt.tight_layout();"
      ],
      "execution_count": null,
      "outputs": [
        {
          "output_type": "display_data",
          "data": {
            "image/png": "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\n",
            "text/plain": [
              "<Figure size 432x720 with 1 Axes>"
            ]
          },
          "metadata": {
            "tags": []
          }
        }
      ]
    },
    {
      "cell_type": "markdown",
      "metadata": {
        "id": "rNKm4y43MyMh"
      },
      "source": [
        "O boxplot nos mostra uma distribuição bem diferente entre as duas classes.\n",
        "\n",
        "Para entedermos melhor a classe que representa as transações de fraude, vamos verificar algumas informações estatísticas:"
      ]
    },
    {
      "cell_type": "code",
      "metadata": {
        "id": "X5NmTiM2Ec5H",
        "outputId": "672fbab1-5852-4977-fe17-f4f56de274ab",
        "colab": {
          "base_uri": "https://localhost:8080/",
          "height": 170
        }
      },
      "source": [
        "df[(df.Class == 1) & (df.Amount < 2000)]['Amount'].describe()"
      ],
      "execution_count": null,
      "outputs": [
        {
          "output_type": "execute_result",
          "data": {
            "text/plain": [
              "count     491.000000\n",
              "mean      118.130550\n",
              "std       240.439028\n",
              "min         0.000000\n",
              "25%         1.000000\n",
              "50%         9.210000\n",
              "75%       105.350000\n",
              "max      1809.680000\n",
              "Name: Amount, dtype: float64"
            ]
          },
          "metadata": {
            "tags": []
          },
          "execution_count": 9
        }
      ]
    },
    {
      "cell_type": "markdown",
      "metadata": {
        "id": "ojbbzXaSNfIQ"
      },
      "source": [
        "Nota-se que a classe possui média de 118 e uma mediana de 9."
      ]
    },
    {
      "cell_type": "markdown",
      "metadata": {
        "id": "Dbv732R5N6hb"
      },
      "source": [
        "Um outro gráfico muito interessante para detectar algumas anomalias entre variávies é o de densidade. Nele podemos verificar as distribuições de cada variável para cada classe, identificando fraudes mais facilmente. \n"
      ]
    },
    {
      "cell_type": "code",
      "metadata": {
        "id": "fwpbAj0sO9aB",
        "outputId": "3364adb8-593d-41e7-dab7-cc669c774f11",
        "colab": {
          "base_uri": "https://localhost:8080/",
          "height": 1000
        }
      },
      "source": [
        "column_names = df.drop(['Class', 'Amount', 'Time'], axis = 1).columns \n",
        "num_plots= len(column_names)\n",
        "df_class_0 = df[df.Class == 0]\n",
        "df_class_1 = df[df.Class == 1]\n",
        "\n",
        "fig, ax = plt.subplots(nrows=7, ncols=4, figsize=(14,14))\n",
        "fig.subplots_adjust(hspace= 1, wspace=1)\n",
        "\n",
        "idx = 0\n",
        "for col in column_names:\n",
        "    idx += 1\n",
        "    plt.subplot(7, 4, idx)\n",
        "    sns.kdeplot(df_class_0[col], label=\"Class 0\", shade=True)\n",
        "    sns.kdeplot(df_class_1[col], label=\"Class 1\", shade=True)\n",
        "    plt.title(col, fontsize=10)\n",
        "plt.tight_layout()\n",
        " \n"
      ],
      "execution_count": null,
      "outputs": [
        {
          "output_type": "display_data",
          "data": {
            "image/png": "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
