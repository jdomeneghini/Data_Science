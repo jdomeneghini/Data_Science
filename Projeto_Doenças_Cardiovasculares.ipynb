{
  "nbformat": 4,
  "nbformat_minor": 0,
  "metadata": {
    "colab": {
      "name": "Projeto_Doenças Cardiovasculares.ipynb",
      "provenance": [],
      "collapsed_sections": [],
      "authorship_tag": "ABX9TyMN8QRcCXe4kW4V+FP9eR6z",
      "include_colab_link": true
    },
    "kernelspec": {
      "name": "python3",
      "display_name": "Python 3"
    }
  },
  "cells": [
    {
      "cell_type": "markdown",
      "metadata": {
        "id": "view-in-github",
        "colab_type": "text"
      },
      "source": [
        "<a href=\"https://colab.research.google.com/github/jdomeneghini/Data_Science/blob/master/Projeto_Doen%C3%A7as_Cardiovasculares.ipynb\" target=\"_parent\"><img src=\"https://colab.research.google.com/assets/colab-badge.svg\" alt=\"Open In Colab\"/></a>"
      ]
    },
    {
      "cell_type": "markdown",
      "metadata": {
        "id": "oSQ7bU6USbm7",
        "colab_type": "text"
      },
      "source": [
        "##**Análise Exploratória de Dados - Doenças Cardiovasculares**\n",
        "\n",
        "*Este projeto foi desenvolvido no curso Data Science na Prática e este notebook trata-se de uma análise de dados sobre diagnósticos de paciente com doenças cardíacas.*\n"
      ]
    },
    {
      "cell_type": "markdown",
      "metadata": {
        "id": "q_8S6RaoVu3H",
        "colab_type": "text"
      },
      "source": [
        "Segundo a Organização Mundial da Saude, as doenças cardiovasculares são as principais causas de morte no mundo.\n",
        "\n",
        "Atualmente existem diversas pesquisas utilizando inteligência artificial para prever diagnósticos precoces e capazes de identificar a doença com pelo menos cinco anos de antecedência.\n",
        "\n",
        "Com isso, podemos ver como a tecnologia pode impactar positivamente a área da saude, contribuindo com diagnósticos seguros e eficazes afim de aumentar a vitalidade de muitos pacientes. \n",
        "\n"
      ]
    },
    {
      "cell_type": "markdown",
      "metadata": {
        "id": "JW2Z00BFSovd",
        "colab_type": "text"
      },
      "source": [
        "### **Obtenção dos Dados**\n",
        "\n",
        "Os dados obtidos se encontram disponível no [Repositório UCI *Machine Learning*](https://archive.ics.uci.edu/ml/datasets/heart+Disease) e foram coletados pela ***Cleveland Clinic Foundation*** . Importante informar que os nomes, identidade e documentos pessoais dos pacientes foram removidos completamente do banco de dados.\n",
        "\n",
        "O *dataset* contém 303 registros de pacientes e 14 atributos e pode ser baixado [neste link](https://raw.githubusercontent.com/carlosfab/curso_data_science_na_pratica/master/modulo_03/heart-disease-uci.csv).\n",
        "\n",
        "O arquivo contendo todos os detalhes e documentação do *dataset* usado neste projeto se encontra [neste link](https://github.com/carlosfab/curso_data_science_na_pratica/blob/master/modulo_03/heart-disease.names).\n",
        "\n",
        "Será também utilizado um *dataset* secundário para ver a evolução no número de mortes por doenças cardiovasculares no Brasil (entre os anos de 2004-2017). Esses dados foram disponibilizados pela [Sociedade Brasileira de Cardiologia](http://www.cardiometro.com.br/anteriores.asp), e podem ser baixados [neste link](https://raw.githubusercontent.com/carlosfab/curso_data_science_na_pratica/master/modulo_03/mortes_doencas_cardiovasculares.csv).\n"
      ]
    },
    {
      "cell_type": "markdown",
      "metadata": {
        "id": "pfTCNOKtTIry",
        "colab_type": "text"
      },
      "source": [
        "**Importando as bibliotecas e o DataFrame**\n"
      ]
    },
    {
      "cell_type": "code",
      "metadata": {
        "id": "v50w5xk2DC1k",
        "colab_type": "code",
        "colab": {}
      },
      "source": [
        "#importando as bibliotecas\n",
        "import pandas as pd\n",
        "import matplotlib.pyplot as plt\n",
        "import seaborn as sns\n",
        "\n",
        "#Lendo o DataFrame\n",
        "df = pd.read_csv('https://raw.githubusercontent.com/carlosfab/curso_data_science_na_pratica/master/modulo_03/heart-disease-uci.csv')\n",
        "\n",
        "df_brasil= pd.read_csv(\"https://raw.githubusercontent.com/carlosfab/curso_data_science_na_pratica/master/modulo_03/mortes_doencas_cardiovasculares.csv\")\n"
      ],
      "execution_count": 0,
      "outputs": []
    },
    {
      "cell_type": "markdown",
      "metadata": {
        "id": "RfkhuQKwGfPQ",
        "colab_type": "text"
      },
      "source": [
        "**Informações sobre os atributos:**\n",
        "\n",
        "\n",
        "* `age` - idade em anos\n",
        "* `sex` - sexo do paciente\n",
        "  * 0: mulher\n",
        "  * 1: homem\n",
        "* `cp` - tipo da dor torácica\n",
        "  * 1: angina típica\n",
        "  * 2: angina atípica\n",
        "  * 3: dor não cardíaca\n",
        "  * 4: assintomática\n",
        "* `trestbps` - pressão arterial em repouso\n",
        "* `chol` - colesterol sérico (*mg/dl*)\n",
        "* `fbs` - açucar no sangue em jejum > 120*mg/dl*\n",
        "  * 0: `False`\n",
        "  * 1: `True`\n",
        "* `restecg` - resultado do eletrocardiografia de repouso\n",
        "  * 0: normal\n",
        "  * 1: anormalidades de ST-T  (inversão da onda T e elevação ou depressão de > 0.05*mV*)\n",
        "  * 2: hipertrofia ventricular esquerda provável ou definitiva (pelos critérios de Romhilt-Estes)\n",
        "* `thalach` - frequência cardíaca máxima atingida\n",
        "* `exang` - angina induzida pelo exercício\n",
        "  * 0: não\n",
        "  * 1: sim\n",
        "* `oldpeak` - depressão do segmento ST induzida pelo exercício em relação ao repouso\n",
        "* `slope` - inclinação do segmento ST no pico do exercício\n",
        "* `ca` - número de vasos principais colorido por fluoroscopia\n",
        "* `thal` - *thallium stress test*\n",
        "  * 3: normal\n",
        "  * 6: defeito fixo\n",
        "  * 7: defeito reversível\n",
        "* `num` - diagnóstico de doença cardíaca (diagnóstico angiográfico)\n",
        "  * 0: não há doença cardíaca ( < 50% de estreitamento do diâmetro)\n",
        "  * 1,2,3,4: há doença cardíaca ( > 50% de estreitamento do diâmetro)"
      ]
    },
    {
      "cell_type": "markdown",
      "metadata": {
        "id": "4iFGhVMbY6Bg",
        "colab_type": "text"
      },
      "source": [
        "**Efetuando correção da coluna 'Num' do DataFrame**\n",
        "\n",
        "A variável 'num' é onde indica o diagnóstico de doença cardiaca. Ela possui valores 1, 2, 3 e 4 que indicam que há doença cardiáca. Iremos converter esses valores como sendo somente 1."
      ]
    },
    {
      "cell_type": "code",
      "metadata": {
        "id": "uapo1xw-G_kT",
        "colab_type": "code",
        "outputId": "f5351f9a-9133-4ec1-c2fc-bf1d765ca126",
        "colab": {
          "base_uri": "https://localhost:8080/",
          "height": 119
        }
      },
      "source": [
        "#variavel alvo antes\n",
        "df.num.value_counts()"
      ],
      "execution_count": 15,
      "outputs": [
        {
          "output_type": "execute_result",
          "data": {
            "text/plain": [
              "0    164\n",
              "1     55\n",
              "2     36\n",
              "3     35\n",
              "4     13\n",
              "Name: num, dtype: int64"
            ]
          },
          "metadata": {
            "tags": []
          },
          "execution_count": 15
        }
      ]
    },
    {
      "cell_type": "code",
      "metadata": {
        "id": "yyhcqd3wHJGD",
        "colab_type": "code",
        "colab": {}
      },
      "source": [
        "#converter valores >=1 em 1\n",
        "\n",
        "df.loc[df.num !=0, 'num']= 1"
      ],
      "execution_count": 0,
      "outputs": []
    },
    {
      "cell_type": "code",
      "metadata": {
        "id": "x9abVX1qHWkS",
        "colab_type": "code",
        "outputId": "718191d9-d64f-425e-cd36-70ab8e10c105",
        "colab": {
          "base_uri": "https://localhost:8080/",
          "height": 68
        }
      },
      "source": [
        "df.num.value_counts()"
      ],
      "execution_count": 17,
      "outputs": [
        {
          "output_type": "execute_result",
          "data": {
            "text/plain": [
              "0    164\n",
              "1    139\n",
              "Name: num, dtype: int64"
            ]
          },
          "metadata": {
            "tags": []
          },
          "execution_count": 17
        }
      ]
    },
    {
      "cell_type": "markdown",
      "metadata": {
        "id": "12SsHoWlHaGa",
        "colab_type": "text"
      },
      "source": [
        "### **Análise Exploratória dos Dados**\n",
        "\n",
        "**1. Qual o tamanho do DataFrame?**"
      ]
    },
    {
      "cell_type": "code",
      "metadata": {
        "id": "7S_XNEUJHll4",
        "colab_type": "code",
        "outputId": "15b60c03-d54f-4860-c708-3b879cd18ed8",
        "colab": {
          "base_uri": "https://localhost:8080/",
          "height": 34
        }
      },
      "source": [
        "df.shape"
      ],
      "execution_count": 0,
      "outputs": [
        {
          "output_type": "execute_result",
          "data": {
            "text/plain": [
              "(303, 14)"
            ]
          },
          "metadata": {
            "tags": []
          },
          "execution_count": 8
        }
      ]
    },
    {
      "cell_type": "markdown",
      "metadata": {
        "id": "4h2XeWGJHsZq",
        "colab_type": "text"
      },
      "source": [
        "O DataFrame possui 303 registros e 14 colunas"
      ]
    },
    {
      "cell_type": "markdown",
      "metadata": {
        "id": "rnHsadEfZ_mn",
        "colab_type": "text"
      },
      "source": [
        "**2. Quais as informações estatísticas podemos extrair deste df?**"
      ]
    },
    {
      "cell_type": "code",
      "metadata": {
        "id": "C8FrDoj4HoQj",
        "colab_type": "code",
        "outputId": "777c5702-127c-4e8a-d252-b9a7b9237406",
        "colab": {
          "base_uri": "https://localhost:8080/",
          "height": 317
        }
      },
      "source": [
        "#Informações estatisticas do DF\n",
        "df.describe()"
      ],
      "execution_count": 0,
      "outputs": [
        {
          "output_type": "execute_result",
          "data": {
            "text/html": [
              "<div>\n",
              "<style scoped>\n",
              "    .dataframe tbody tr th:only-of-type {\n",
              "        vertical-align: middle;\n",
              "    }\n",
              "\n",
              "    .dataframe tbody tr th {\n",
              "        vertical-align: top;\n",
              "    }\n",
              "\n",
              "    .dataframe thead th {\n",
              "        text-align: right;\n",
              "    }\n",
              "</style>\n",
              "<table border=\"1\" class=\"dataframe\">\n",
              "  <thead>\n",
              "    <tr style=\"text-align: right;\">\n",
              "      <th></th>\n",
              "      <th>age</th>\n",
              "      <th>sex</th>\n",
              "      <th>cp</th>\n",
              "      <th>trestbps</th>\n",
              "      <th>chol</th>\n",
              "      <th>fbs</th>\n",
              "      <th>restecg</th>\n",
              "      <th>thalach</th>\n",
              "      <th>exang</th>\n",
              "      <th>oldpeak</th>\n",
              "      <th>slope</th>\n",
              "      <th>ca</th>\n",
              "      <th>thal</th>\n",
              "      <th>num</th>\n",
              "    </tr>\n",
              "  </thead>\n",
              "  <tbody>\n",
              "    <tr>\n",
              "      <th>count</th>\n",
              "      <td>303.000000</td>\n",
              "      <td>303.000000</td>\n",
              "      <td>303.000000</td>\n",
              "      <td>303.000000</td>\n",
              "      <td>303.000000</td>\n",
              "      <td>303.000000</td>\n",
              "      <td>303.000000</td>\n",
              "      <td>303.000000</td>\n",
              "      <td>303.000000</td>\n",
              "      <td>303.000000</td>\n",
              "      <td>303.000000</td>\n",
              "      <td>303.000000</td>\n",
              "      <td>303.000000</td>\n",
              "      <td>303.000000</td>\n",
              "    </tr>\n",
              "    <tr>\n",
              "      <th>mean</th>\n",
              "      <td>54.438944</td>\n",
              "      <td>0.679868</td>\n",
              "      <td>3.158416</td>\n",
              "      <td>131.689769</td>\n",
              "      <td>246.693069</td>\n",
              "      <td>0.148515</td>\n",
              "      <td>0.990099</td>\n",
              "      <td>149.607261</td>\n",
              "      <td>0.326733</td>\n",
              "      <td>1.039604</td>\n",
              "      <td>1.600660</td>\n",
              "      <td>0.663366</td>\n",
              "      <td>4.722772</td>\n",
              "      <td>0.458746</td>\n",
              "    </tr>\n",
              "    <tr>\n",
              "      <th>std</th>\n",
              "      <td>9.038662</td>\n",
              "      <td>0.467299</td>\n",
              "      <td>0.960126</td>\n",
              "      <td>17.599748</td>\n",
              "      <td>51.776918</td>\n",
              "      <td>0.356198</td>\n",
              "      <td>0.994971</td>\n",
              "      <td>22.875003</td>\n",
              "      <td>0.469794</td>\n",
              "      <td>1.161075</td>\n",
              "      <td>0.616226</td>\n",
              "      <td>0.934375</td>\n",
              "      <td>1.938383</td>\n",
              "      <td>0.499120</td>\n",
              "    </tr>\n",
              "    <tr>\n",
              "      <th>min</th>\n",
              "      <td>29.000000</td>\n",
              "      <td>0.000000</td>\n",
              "      <td>1.000000</td>\n",
              "      <td>94.000000</td>\n",
              "      <td>126.000000</td>\n",
              "      <td>0.000000</td>\n",
              "      <td>0.000000</td>\n",
              "      <td>71.000000</td>\n",
              "      <td>0.000000</td>\n",
              "      <td>0.000000</td>\n",
              "      <td>1.000000</td>\n",
              "      <td>0.000000</td>\n",
              "      <td>3.000000</td>\n",
              "      <td>0.000000</td>\n",
              "    </tr>\n",
              "    <tr>\n",
              "      <th>25%</th>\n",
              "      <td>48.000000</td>\n",
              "      <td>0.000000</td>\n",
              "      <td>3.000000</td>\n",
              "      <td>120.000000</td>\n",
              "      <td>211.000000</td>\n",
              "      <td>0.000000</td>\n",
              "      <td>0.000000</td>\n",
              "      <td>133.500000</td>\n",
              "      <td>0.000000</td>\n",
              "      <td>0.000000</td>\n",
              "      <td>1.000000</td>\n",
              "      <td>0.000000</td>\n",
              "      <td>3.000000</td>\n",
              "      <td>0.000000</td>\n",
              "    </tr>\n",
              "    <tr>\n",
              "      <th>50%</th>\n",
              "      <td>56.000000</td>\n",
              "      <td>1.000000</td>\n",
              "      <td>3.000000</td>\n",
              "      <td>130.000000</td>\n",
              "      <td>241.000000</td>\n",
              "      <td>0.000000</td>\n",
              "      <td>1.000000</td>\n",
              "      <td>153.000000</td>\n",
              "      <td>0.000000</td>\n",
              "      <td>0.800000</td>\n",
              "      <td>2.000000</td>\n",
              "      <td>0.000000</td>\n",
              "      <td>3.000000</td>\n",
              "      <td>0.000000</td>\n",
              "    </tr>\n",
              "    <tr>\n",
              "      <th>75%</th>\n",
              "      <td>61.000000</td>\n",
              "      <td>1.000000</td>\n",
              "      <td>4.000000</td>\n",
              "      <td>140.000000</td>\n",
              "      <td>275.000000</td>\n",
              "      <td>0.000000</td>\n",
              "      <td>2.000000</td>\n",
              "      <td>166.000000</td>\n",
              "      <td>1.000000</td>\n",
              "      <td>1.600000</td>\n",
              "      <td>2.000000</td>\n",
              "      <td>1.000000</td>\n",
              "      <td>7.000000</td>\n",
              "      <td>1.000000</td>\n",
              "    </tr>\n",
              "    <tr>\n",
              "      <th>max</th>\n",
              "      <td>77.000000</td>\n",
              "      <td>1.000000</td>\n",
              "      <td>4.000000</td>\n",
              "      <td>200.000000</td>\n",
              "      <td>564.000000</td>\n",
              "      <td>1.000000</td>\n",
              "      <td>2.000000</td>\n",
              "      <td>202.000000</td>\n",
              "      <td>1.000000</td>\n",
              "      <td>6.200000</td>\n",
              "      <td>3.000000</td>\n",
              "      <td>3.000000</td>\n",
              "      <td>7.000000</td>\n",
              "      <td>1.000000</td>\n",
              "    </tr>\n",
              "  </tbody>\n",
              "</table>\n",
              "</div>"
            ],
            "text/plain": [
              "              age         sex          cp  ...          ca        thal         num\n",
              "count  303.000000  303.000000  303.000000  ...  303.000000  303.000000  303.000000\n",
              "mean    54.438944    0.679868    3.158416  ...    0.663366    4.722772    0.458746\n",
              "std      9.038662    0.467299    0.960126  ...    0.934375    1.938383    0.499120\n",
              "min     29.000000    0.000000    1.000000  ...    0.000000    3.000000    0.000000\n",
              "25%     48.000000    0.000000    3.000000  ...    0.000000    3.000000    0.000000\n",
              "50%     56.000000    1.000000    3.000000  ...    0.000000    3.000000    0.000000\n",
              "75%     61.000000    1.000000    4.000000  ...    1.000000    7.000000    1.000000\n",
              "max     77.000000    1.000000    4.000000  ...    3.000000    7.000000    1.000000\n",
              "\n",
              "[8 rows x 14 columns]"
            ]
          },
          "metadata": {
            "tags": []
          },
          "execution_count": 9
        }
      ]
    },
    {
      "cell_type": "markdown",
      "metadata": {
        "id": "OlDMJw0zaXrz",
        "colab_type": "text"
      },
      "source": [
        "**3. Quais os tipos das varíaveis?**"
      ]
    },
    {
      "cell_type": "code",
      "metadata": {
        "id": "mOR2jD_EH19K",
        "colab_type": "code",
        "outputId": "2d2bd794-0242-424f-ada4-fca4aa4a2da7",
        "colab": {
          "base_uri": "https://localhost:8080/",
          "height": 272
        }
      },
      "source": [
        "#Tipos das variavies\n",
        "df.dtypes"
      ],
      "execution_count": 0,
      "outputs": [
        {
          "output_type": "execute_result",
          "data": {
            "text/plain": [
              "age         float64\n",
              "sex         float64\n",
              "cp          float64\n",
              "trestbps    float64\n",
              "chol        float64\n",
              "fbs         float64\n",
              "restecg     float64\n",
              "thalach     float64\n",
              "exang       float64\n",
              "oldpeak     float64\n",
              "slope       float64\n",
              "ca          float64\n",
              "thal        float64\n",
              "num           int64\n",
              "dtype: object"
            ]
          },
          "metadata": {
            "tags": []
          },
          "execution_count": 10
        }
      ]
    },
    {
      "cell_type": "markdown",
      "metadata": {
        "id": "hGCE1dkZad6-",
        "colab_type": "text"
      },
      "source": [
        "**4. Quais os 5 primeiros registros do df?**"
      ]
    },
    {
      "cell_type": "code",
      "metadata": {
        "id": "OWTOM4JDH9oy",
        "colab_type": "code",
        "outputId": "f013f4ea-6a2c-4766-b0b9-ff66dcb5eb36",
        "colab": {
          "base_uri": "https://localhost:8080/",
          "height": 204
        }
      },
      "source": [
        "#5 primeiros registros\n",
        "\n",
        "df.head()"
      ],
      "execution_count": 0,
      "outputs": [
        {
          "output_type": "execute_result",
          "data": {
            "text/html": [
              "<div>\n",
              "<style scoped>\n",
              "    .dataframe tbody tr th:only-of-type {\n",
              "        vertical-align: middle;\n",
              "    }\n",
              "\n",
              "    .dataframe tbody tr th {\n",
              "        vertical-align: top;\n",
              "    }\n",
              "\n",
              "    .dataframe thead th {\n",
              "        text-align: right;\n",
              "    }\n",
              "</style>\n",
              "<table border=\"1\" class=\"dataframe\">\n",
              "  <thead>\n",
              "    <tr style=\"text-align: right;\">\n",
              "      <th></th>\n",
              "      <th>age</th>\n",
              "      <th>sex</th>\n",
              "      <th>cp</th>\n",
              "      <th>trestbps</th>\n",
              "      <th>chol</th>\n",
              "      <th>fbs</th>\n",
              "      <th>restecg</th>\n",
              "      <th>thalach</th>\n",
              "      <th>exang</th>\n",
              "      <th>oldpeak</th>\n",
              "      <th>slope</th>\n",
              "      <th>ca</th>\n",
              "      <th>thal</th>\n",
              "      <th>num</th>\n",
              "    </tr>\n",
              "  </thead>\n",
              "  <tbody>\n",
              "    <tr>\n",
              "      <th>0</th>\n",
              "      <td>63.0</td>\n",
              "      <td>1.0</td>\n",
              "      <td>1.0</td>\n",
              "      <td>145.0</td>\n",
              "      <td>233.0</td>\n",
              "      <td>1.0</td>\n",
              "      <td>2.0</td>\n",
              "      <td>150.0</td>\n",
              "      <td>0.0</td>\n",
              "      <td>2.3</td>\n",
              "      <td>3.0</td>\n",
              "      <td>0.0</td>\n",
              "      <td>6.0</td>\n",
              "      <td>0</td>\n",
              "    </tr>\n",
              "    <tr>\n",
              "      <th>1</th>\n",
              "      <td>67.0</td>\n",
              "      <td>1.0</td>\n",
              "      <td>4.0</td>\n",
              "      <td>160.0</td>\n",
              "      <td>286.0</td>\n",
              "      <td>0.0</td>\n",
              "      <td>2.0</td>\n",
              "      <td>108.0</td>\n",
              "      <td>1.0</td>\n",
              "      <td>1.5</td>\n",
              "      <td>2.0</td>\n",
              "      <td>3.0</td>\n",
              "      <td>3.0</td>\n",
              "      <td>1</td>\n",
              "    </tr>\n",
              "    <tr>\n",
              "      <th>2</th>\n",
              "      <td>67.0</td>\n",
              "      <td>1.0</td>\n",
              "      <td>4.0</td>\n",
              "      <td>120.0</td>\n",
              "      <td>229.0</td>\n",
              "      <td>0.0</td>\n",
              "      <td>2.0</td>\n",
              "      <td>129.0</td>\n",
              "      <td>1.0</td>\n",
              "      <td>2.6</td>\n",
              "      <td>2.0</td>\n",
              "      <td>2.0</td>\n",
              "      <td>7.0</td>\n",
              "      <td>1</td>\n",
              "    </tr>\n",
              "    <tr>\n",
              "      <th>3</th>\n",
              "      <td>37.0</td>\n",
              "      <td>1.0</td>\n",
              "      <td>3.0</td>\n",
              "      <td>130.0</td>\n",
              "      <td>250.0</td>\n",
              "      <td>0.0</td>\n",
              "      <td>0.0</td>\n",
              "      <td>187.0</td>\n",
              "      <td>0.0</td>\n",
              "      <td>3.5</td>\n",
              "      <td>3.0</td>\n",
              "      <td>0.0</td>\n",
              "      <td>3.0</td>\n",
              "      <td>0</td>\n",
              "    </tr>\n",
              "    <tr>\n",
              "      <th>4</th>\n",
              "      <td>41.0</td>\n",
              "      <td>0.0</td>\n",
              "      <td>2.0</td>\n",
              "      <td>130.0</td>\n",
              "      <td>204.0</td>\n",
              "      <td>0.0</td>\n",
              "      <td>2.0</td>\n",
              "      <td>172.0</td>\n",
              "      <td>0.0</td>\n",
              "      <td>1.4</td>\n",
              "      <td>1.0</td>\n",
              "      <td>0.0</td>\n",
              "      <td>3.0</td>\n",
              "      <td>0</td>\n",
              "    </tr>\n",
              "  </tbody>\n",
              "</table>\n",
              "</div>"
            ],
            "text/plain": [
              "    age  sex   cp  trestbps   chol  fbs  ...  exang  oldpeak  slope   ca  thal  num\n",
              "0  63.0  1.0  1.0     145.0  233.0  1.0  ...    0.0      2.3    3.0  0.0   6.0    0\n",
              "1  67.0  1.0  4.0     160.0  286.0  0.0  ...    1.0      1.5    2.0  3.0   3.0    1\n",
              "2  67.0  1.0  4.0     120.0  229.0  0.0  ...    1.0      2.6    2.0  2.0   7.0    1\n",
              "3  37.0  1.0  3.0     130.0  250.0  0.0  ...    0.0      3.5    3.0  0.0   3.0    0\n",
              "4  41.0  0.0  2.0     130.0  204.0  0.0  ...    0.0      1.4    1.0  0.0   3.0    0\n",
              "\n",
              "[5 rows x 14 columns]"
            ]
          },
          "metadata": {
            "tags": []
          },
          "execution_count": 11
        }
      ]
    },
    {
      "cell_type": "markdown",
      "metadata": {
        "id": "0Xzke7zra6gC",
        "colab_type": "text"
      },
      "source": [
        "**5. Existem váriavies nulas?**"
      ]
    },
    {
      "cell_type": "code",
      "metadata": {
        "id": "AEriThI5IR_D",
        "colab_type": "code",
        "outputId": "9d81d98f-6beb-4791-ddfc-724dc733577e",
        "colab": {
          "base_uri": "https://localhost:8080/",
          "height": 272
        }
      },
      "source": [
        "#Quantos valores ausentes presentes no DF\n",
        "df.isnull().sum()"
      ],
      "execution_count": 0,
      "outputs": [
        {
          "output_type": "execute_result",
          "data": {
            "text/plain": [
              "age         0\n",
              "sex         0\n",
              "cp          0\n",
              "trestbps    0\n",
              "chol        0\n",
              "fbs         0\n",
              "restecg     0\n",
              "thalach     0\n",
              "exang       0\n",
              "oldpeak     0\n",
              "slope       0\n",
              "ca          0\n",
              "thal        0\n",
              "num         0\n",
              "dtype: int64"
            ]
          },
          "metadata": {
            "tags": []
          },
          "execution_count": 14
        }
      ]
    },
    {
      "cell_type": "markdown",
      "metadata": {
        "id": "mICdpKENTfwO",
        "colab_type": "text"
      },
      "source": [
        "O df não apresenta valores ausentes (nulos)."
      ]
    },
    {
      "cell_type": "markdown",
      "metadata": {
        "id": "M_kjRBlu92q9",
        "colab_type": "text"
      },
      "source": [
        "**6. Casos no Brasil**\n",
        "\n",
        "Analisando dados referente aos casos no Brasil.\n"
      ]
    },
    {
      "cell_type": "code",
      "metadata": {
        "id": "zS9iOcF4I2Bz",
        "colab_type": "code",
        "outputId": "3e13b82a-bfd8-4134-f429-8dd65a20908e",
        "colab": {
          "base_uri": "https://localhost:8080/",
          "height": 483
        }
      },
      "source": [
        "df_brasil"
      ],
      "execution_count": 0,
      "outputs": [
        {
          "output_type": "execute_result",
          "data": {
            "text/html": [
              "<div>\n",
              "<style scoped>\n",
              "    .dataframe tbody tr th:only-of-type {\n",
              "        vertical-align: middle;\n",
              "    }\n",
              "\n",
              "    .dataframe tbody tr th {\n",
              "        vertical-align: top;\n",
              "    }\n",
              "\n",
              "    .dataframe thead th {\n",
              "        text-align: right;\n",
              "    }\n",
              "</style>\n",
              "<table border=\"1\" class=\"dataframe\">\n",
              "  <thead>\n",
              "    <tr style=\"text-align: right;\">\n",
              "      <th></th>\n",
              "      <th>ano</th>\n",
              "      <th>mortes_doencas_cardio</th>\n",
              "    </tr>\n",
              "  </thead>\n",
              "  <tbody>\n",
              "    <tr>\n",
              "      <th>0</th>\n",
              "      <td>2017</td>\n",
              "      <td>383.961</td>\n",
              "    </tr>\n",
              "    <tr>\n",
              "      <th>1</th>\n",
              "      <td>2016</td>\n",
              "      <td>362.091</td>\n",
              "    </tr>\n",
              "    <tr>\n",
              "      <th>2</th>\n",
              "      <td>2015</td>\n",
              "      <td>349.584</td>\n",
              "    </tr>\n",
              "    <tr>\n",
              "      <th>3</th>\n",
              "      <td>2014</td>\n",
              "      <td>340.284</td>\n",
              "    </tr>\n",
              "    <tr>\n",
              "      <th>4</th>\n",
              "      <td>2013</td>\n",
              "      <td>339.672</td>\n",
              "    </tr>\n",
              "    <tr>\n",
              "      <th>5</th>\n",
              "      <td>2012</td>\n",
              "      <td>333.295</td>\n",
              "    </tr>\n",
              "    <tr>\n",
              "      <th>6</th>\n",
              "      <td>2011</td>\n",
              "      <td>335.213</td>\n",
              "    </tr>\n",
              "    <tr>\n",
              "      <th>7</th>\n",
              "      <td>2010</td>\n",
              "      <td>326.371</td>\n",
              "    </tr>\n",
              "    <tr>\n",
              "      <th>8</th>\n",
              "      <td>2009</td>\n",
              "      <td>320.074</td>\n",
              "    </tr>\n",
              "    <tr>\n",
              "      <th>9</th>\n",
              "      <td>2008</td>\n",
              "      <td>317.797</td>\n",
              "    </tr>\n",
              "    <tr>\n",
              "      <th>10</th>\n",
              "      <td>2007</td>\n",
              "      <td>308.466</td>\n",
              "    </tr>\n",
              "    <tr>\n",
              "      <th>11</th>\n",
              "      <td>2006</td>\n",
              "      <td>302.817</td>\n",
              "    </tr>\n",
              "    <tr>\n",
              "      <th>12</th>\n",
              "      <td>2005</td>\n",
              "      <td>283.927</td>\n",
              "    </tr>\n",
              "    <tr>\n",
              "      <th>13</th>\n",
              "      <td>2004</td>\n",
              "      <td>285.543</td>\n",
              "    </tr>\n",
              "  </tbody>\n",
              "</table>\n",
              "</div>"
            ],
            "text/plain": [
              "     ano  mortes_doencas_cardio\n",
              "0   2017                383.961\n",
              "1   2016                362.091\n",
              "2   2015                349.584\n",
              "3   2014                340.284\n",
              "4   2013                339.672\n",
              "5   2012                333.295\n",
              "6   2011                335.213\n",
              "7   2010                326.371\n",
              "8   2009                320.074\n",
              "9   2008                317.797\n",
              "10  2007                308.466\n",
              "11  2006                302.817\n",
              "12  2005                283.927\n",
              "13  2004                285.543"
            ]
          },
          "metadata": {
            "tags": []
          },
          "execution_count": 71
        }
      ]
    },
    {
      "cell_type": "code",
      "metadata": {
        "id": "sh-jAog7IYO7",
        "colab_type": "code",
        "outputId": "549b2bb0-2fd7-4e27-b54e-01121cc9e384",
        "colab": {
          "base_uri": "https://localhost:8080/",
          "height": 297
        }
      },
      "source": [
        "fig, ax= plt.subplots()\n",
        "\n",
        "df_brasil.plot('ano', 'mortes_doencas_cardio', ax=ax)\n",
        "ax.set_title('Mortes por doenças cardiovasculares no Brasil')\n",
        "ax.set_xlabel('Ano')\n",
        "ax.set_ylabel('Quantidade')\n",
        "plt.tight_layout();"
      ],
      "execution_count": 0,
      "outputs": [
        {
          "output_type": "display_data",
          "data": {
            "image/png": "[encoded data removed]",
            "text/plain": [
              "<Figure size 432x288 with 1 Axes>"
            ]
          },
          "metadata": {
            "tags": []
          }
        }
      ]
    },
    {
      "cell_type": "markdown",
      "metadata": {
        "id": "Odi3ot4ZTnte",
        "colab_type": "text"
      },
      "source": [
        "Este gráfico representa o crescimento do número de mortes no Brasil entre os anos de 2004 a 2016, devido a doenças cardiovasculares.\n",
        "\n"
      ]
    },
    {
      "cell_type": "markdown",
      "metadata": {
        "id": "KuiCSVRAhV9g",
        "colab_type": "text"
      },
      "source": [
        "**7. Quantidade de homens e mulheres diagnosticados com doença cardíaca**"
      ]
    },
    {
      "cell_type": "code",
      "metadata": {
        "id": "9Nv0ak3NgSmf",
        "colab_type": "code",
        "colab": {
          "base_uri": "https://localhost:8080/",
          "height": 51
        },
        "outputId": "1bf2368d-ffe0-4684-ed54-883da1dc35d4"
      },
      "source": [
        "df_diag= df.loc[df.num == 1]\n",
        "\n",
        "print('Mulheres: {}'.format(df_diag.sex.value_counts()[0]))\n",
        "print('Homens: {}'.format(df_diag.sex.value_counts()[1]))"
      ],
      "execution_count": 77,
      "outputs": [
        {
          "output_type": "stream",
          "text": [
            "Mulheres: 25\n",
            "Homens: 114\n"
          ],
          "name": "stdout"
        }
      ]
    },
    {
      "cell_type": "code",
      "metadata": {
        "id": "ePoKtRe2JvvU",
        "colab_type": "code",
        "outputId": "3896191b-8e7e-4bfe-9dd0-20d8a33c5da5",
        "colab": {
          "base_uri": "https://localhost:8080/",
          "height": 297
        }
      },
      "source": [
        "fig, ax= plt.subplots()\n",
        "\n",
        "sns.barplot(x= ['Homem', 'Mulher'], y = df_diag.sex.value_counts())\n",
        "ax.set_title('Quantidade de mulheres e homens diagnosticados')\n",
        "ax.set_xlabel('Sexo')\n",
        "ax.set_ylabel('Quantidade')\n",
        "\n",
        "plt.tight_layout();\n"
      ],
      "execution_count": 75,
      "outputs": [
        {
          "output_type": "display_data",
          "data": {
            "image/png": "[encoded data removed]",
            "text/plain": [
              "<Figure size 432x288 with 1 Axes>"
            ]
          },
          "metadata": {
            "tags": []
          }
        }
      ]
    },
    {
      "cell_type": "markdown",
      "metadata": {
        "id": "LNp-Ti_5UMv8",
        "colab_type": "text"
      },
      "source": [
        "Este gráfico representa a quantidade de homens e mulheres nos quais foram diagnosticados com doença cardiovascular. Como podemos notar, a maioria dos casos de doenças foram diagnosticadas em Homens."
      ]
    },
    {
      "cell_type": "markdown",
      "metadata": {
        "id": "8az9iJgFDGb8",
        "colab_type": "text"
      },
      "source": [
        "**8. Idades de homens e mulheres diagnosticados com doenças cardiovasculares**"
      ]
    },
    {
      "cell_type": "code",
      "metadata": {
        "id": "mgzDeX28-EPf",
        "colab_type": "code",
        "colab": {
          "base_uri": "https://localhost:8080/",
          "height": 225
        },
        "outputId": "837e78cb-7d2d-4380-a106-e33ffd4e3364"
      },
      "source": [
        "idade_mulheres= df_diag.loc[df.sex == 0]\n",
        "idade_homens= df_diag.loc[df.sex ==1]\n",
        "\n",
        "fig, (ax1, ax2)= plt.subplots(nrows= 1, ncols=2, figsize=(10,3))\n",
        "\n",
        "idade_mulheres.age.plot(kind='hist', ax=ax1)\n",
        "ax1.set_title('Idade Mulheres Diagnosticadas')\n",
        "ax1.set_xlabel('Idade')\n",
        "ax1.set_ylabel('Quantidade')\n",
        "\n",
        "idade_homens.age.plot(kind='hist', ax=ax2)\n",
        "ax2.set_title('Idade Homens Diagnosticadas')\n",
        "ax2.set_xlabel('Idade')\n",
        "ax2.set_ylabel('Quantidade')\n",
        "\n",
        "plt.tight_layout();\n",
        "\n"
      ],
      "execution_count": 141,
      "outputs": [
        {
          "output_type": "display_data",
          "data": {
            "image/png": "[encoded data removed]",
            "text/plain": [
              "<Figure size 720x216 with 2 Axes>"
            ]
          },
          "metadata": {
            "tags": []
          }
        }
      ]
    },
    {
      "cell_type": "markdown",
      "metadata": {
        "id": "zpffWnOFl-Qg",
        "colab_type": "text"
      },
      "source": [
        "**9. Disperção do nível de colesterol de acordo com as idades**"
      ]
    },
    {
      "cell_type": "code",
      "metadata": {
        "id": "koYMbliPMBhV",
        "colab_type": "code",
        "outputId": "09ea8c0d-03be-403c-ec77-951a4e60c436",
        "colab": {
          "base_uri": "https://localhost:8080/",
          "height": 225
        }
      },
      "source": [
        "fig, ax= plt.subplots(figsize=(8,3))\n",
        "\n",
        "df.plot.scatter(x='age', y='chol', ax=ax)\n",
        "ax.set_title('Colesterol x Idade (mg/dl)')\n",
        "ax.set_xlabel('Idade')\n",
        "ax.set_ylabel('Colesterol sérico (mg/dl)')\n",
        "plt.tight_layout()"
      ],
      "execution_count": 79,
      "outputs": [
        {
          "output_type": "display_data",
          "data": {
            "image/png": "[encoded data removed]",
            "text/plain": [
              "<Figure size 576x216 with 1 Axes>"
            ]
          },
          "metadata": {
            "tags": []
          }
        }
      ]
    },
    {
      "cell_type": "markdown",
      "metadata": {
        "id": "1wfEE9GWUiZw",
        "colab_type": "text"
      },
      "source": [
        "O gráfico acima compara os registros de volume do colesterol sérico de acordo com as idades."
      ]
    },
    {
      "cell_type": "markdown",
      "metadata": {
        "id": "GVU1neqCzGlS",
        "colab_type": "text"
      },
      "source": [
        "**10. Indice Colesterol Sérico**"
      ]
    },
    {
      "cell_type": "code",
      "metadata": {
        "id": "eAVID-UpFlIZ",
        "colab_type": "code",
        "outputId": "1a9f442d-ae3b-413c-fe02-cd20953ed1fb",
        "colab": {
          "base_uri": "https://localhost:8080/",
          "height": 225
        }
      },
      "source": [
        "fig, ax= plt.subplots(figsize=(8,3))\n",
        "\n",
        "df.chol.hist(ax=ax)\n",
        "ax.set_title('Indice Colesterol sérico (mg/dl)')\n",
        "ax.set_xlabel('mg/dl')\n",
        "ax.set_ylabel('Qtd')\n",
        "plt.tight_layout()"
      ],
      "execution_count": 0,
      "outputs": [
        {
          "output_type": "display_data",
          "data": {
            "image/png": "[encoded data removed]",
            "text/plain": [
              "<Figure size 576x216 with 1 Axes>"
            ]
          },
          "metadata": {
            "tags": []
          }
        }
      ]
    },
    {
      "cell_type": "markdown",
      "metadata": {
        "id": "rSIJWoAUzq25",
        "colab_type": "text"
      },
      "source": [
        "**11. Eletrocardiografia de repouso**\n",
        "\n",
        "Este exame possui três tipos de resultados:\n",
        "\n",
        "\n",
        "\n",
        "*  0: normal\n",
        "*  1: anormalidades de ST-T (inversão da onda T e elevação ou depressão de > 0.05mV)\n",
        "* 2: hipertrofia ventricular esquerda provável ou definitiva (pelos critérios de Romhilt-Estes)\n",
        "\n",
        "No gráfico abaixo é possível identificarmos em qual frequência esses resultados ocorrem.\n",
        "\n"
      ]
    },
    {
      "cell_type": "code",
      "metadata": {
        "id": "Sqs9JW3AHuq2",
        "colab_type": "code",
        "outputId": "50d2371b-4643-4349-fa97-5ee80a6964d7",
        "colab": {
          "base_uri": "https://localhost:8080/",
          "height": 297
        }
      },
      "source": [
        "labels = ['Normal'.format(df.restecg.value_counts()[0]), \n",
        "          'Anormalidades de ST-T'.format(df.restecg.value_counts()[1]),\n",
        "          'Hipertrofia Ventricular'.format(df.restecg.value_counts()[2])\n",
        "          ]\n",
        "fig, ax= plt.subplots()\n",
        "\n",
        "ax.pie(df.restecg.value_counts(), autopct='%1.2f%%', explode= (0.05, 0.05, 0.05), labels= labels, shadow=True)\n",
        "ax.set_title('Resultados Eletrocardiografia de Repouso')\n",
        "\n",
        "plt.tight_layout()"
      ],
      "execution_count": 102,
      "outputs": [
        {
          "output_type": "display_data",
          "data": {
            "image/png": "[encoded data removed]",
            "text/plain": [
              "<Figure size 432x288 with 1 Axes>"
            ]
          },
          "metadata": {
            "tags": []
          }
        }
      ]
    },
    {
      "cell_type": "markdown",
      "metadata": {
        "id": "-KWYdxtv58o5",
        "colab_type": "text"
      },
      "source": [
        "**12. Verificando correlação entre as variáveis**"
      ]
    },
    {
      "cell_type": "code",
      "metadata": {
        "id": "lfqgE0ymIiPY",
        "colab_type": "code",
        "outputId": "82b5ad64-6707-4f87-e71b-de4c5ec130f8",
        "colab": {
          "base_uri": "https://localhost:8080/",
          "height": 729
        }
      },
      "source": [
        "fig, ax= plt.subplots(figsize=(10,10))\n",
        "\n",
        "sns.heatmap(df.corr(), annot= True, ax=ax, cmap='coolwarm')\n",
        "\n",
        "plt.tight_layout()\n"
      ],
      "execution_count": 0,
      "outputs": [
        {
          "output_type": "display_data",
          "data": {
            "image/png": "[encoded data removed]",
            "text/plain": [
              "<Figure size 720x720 with 2 Axes>"
            ]
          },
          "metadata": {
            "tags": []
          }
        }
      ]
    },
    {
      "cell_type": "markdown",
      "metadata": {
        "id": "PTSeg7yb6qMo",
        "colab_type": "text"
      },
      "source": [
        "A váriavel que mais possui uma correlação neste caso é a 'oldpeak' (depressão do segmento ST induzida pelo exercício em relação ao repouso) e 'slope' (inclinação do segmento ST no pico do exercício).\n",
        "\n"
      ]
    }
  ]
}