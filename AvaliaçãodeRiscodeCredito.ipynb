{
  "nbformat": 4,
  "nbformat_minor": 0,
  "metadata": {
    "colab": {
      "name": "AvaliaçãodeRiscodeCredito.ipynb",
      "provenance": [],
      "collapsed_sections": [],
      "authorship_tag": "ABX9TyOJRIeMwBm++TJ2/7FTT4Ed",
      "include_colab_link": true
    },
    "kernelspec": {
      "name": "python3",
      "display_name": "Python 3"
    }
  },
  "cells": [
    {
      "cell_type": "markdown",
      "metadata": {
        "id": "view-in-github",
        "colab_type": "text"
      },
      "source": [
        "<a href=\"https://colab.research.google.com/github/jdomeneghini/Data_Science/blob/master/Avalia%C3%A7%C3%A3odeRiscodeCredito.ipynb\" target=\"_parent\"><img src=\"https://colab.research.google.com/assets/colab-badge.svg\" alt=\"Open In Colab\"/></a>"
      ]
    },
    {
      "cell_type": "markdown",
      "metadata": {
        "id": "kE1M6WdPaDRC"
      },
      "source": [
        "\n",
        "**AVALIAÇÃO DE RISCO DE CRÉDITO**\n",
        "\n"
      ]
    },
    {
      "cell_type": "markdown",
      "metadata": {
        "id": "SIUTJTd_lmlm"
      },
      "source": [
        "![imagerisk](https://user-images.githubusercontent.com/55714855/97733653-e4354b00-1ab6-11eb-98b7-3e98e4a6d4a8.png)\n",
        "\n",
        "No Brasil, milhões de pedidos de crédito são eftuados e os solicitantes passam por um processo chamado análise de crédito.\n",
        "\n",
        "A análise de crédito é um meio das instituições financeiras se protegerem contra a inadimplência, e busca avaliar se o cliente terá a capacidade de arcar com o quantidade desejada.\n",
        "\n",
        "Grandes bancos e Fintechs têm apostado cada vez mais em modelos de Machine Learning para previnir a inadimplência de alguns clientes.\n",
        "\n",
        "O conjunto de dados a ser utilizado neste projeto de Data Science faz parte de uma competição realizada pela Startup Nubank.\n",
        "\n",
        "***Objetivo***\n",
        "\n",
        "O objetivo deste desafio é criar um modelo no qual possa prever a probabilidade de um cliente ser inadimplente. \n",
        "Essa avaliação deve ser realizada no momento em que o cliente solicita o cartão (normalmente no primeiro contato com a instituição).\n",
        "\n",
        "Espera-se que o modelo seja capaz de minimizar perdas financeiras da startup, e também, minimizar falsos positivos."
      ]
    },
    {
      "cell_type": "markdown",
      "metadata": {
        "id": "1amzPgRCoQyV"
      },
      "source": [
        "**Importando os dados e as bibliotecas necessárias**\n",
        "\n",
        "Os dados podem ser obtidos neste [link]((https://dl.dropboxusercontent.com/s/xn2a4kzf0zer0xu/acquisition_train.csv?dl=0))."
      ]
    },
    {
      "cell_type": "code",
      "metadata": {
        "id": "_9Vou-pGZ5d2"
      },
      "source": [
        "import pandas as pd\n",
        "import matplotlib.pyplot as plt\n",
        "import seaborn as sns\n",
        "import numpy as np\n",
        "import scikitplot as skplt\n",
        "\n",
        "from sklearn.model_selection import train_test_split \n",
        "from xgboost import XGBClassifier\n",
        "from sklearn.metrics import classification_report\n",
        "\n",
        "df = pd.read_csv('https://dl.dropboxusercontent.com/s/xn2a4kzf0zer0xu/acquisition_train.csv?dl=0')\n",
        "\n",
        "# definir o estilo do seaborn para os plots\n",
        "sns.set_style()\n",
        "\n",
        "# filtrar mensagens de warning\n",
        "import warnings\n",
        "warnings.filterwarnings('ignore')\n"
      ],
      "execution_count": 18,
      "outputs": []
    },
    {
      "cell_type": "markdown",
      "metadata": {
        "id": "6B_FR3kIhniy"
      },
      "source": [
        "**ANÁLISE EXPLORATÓRIA DE DADOS**\n",
        "\n",
        "Nesta primeira etapa irei examinar as informações deste dataframe."
      ]
    },
    {
      "cell_type": "code",
      "metadata": {
        "id": "m-1WcTewakgF",
        "outputId": "3edf1b91-e473-4ed1-bd63-c7d72d9cb4bb",
        "colab": {
          "base_uri": "https://localhost:8080/",
          "height": 68
        }
      },
      "source": [
        "# dimensões do df\n",
        "print(\"DIMENSÕES DO DATAFRAME:\")\n",
        "print(\"Linhas:\\t\\t{}\".format(df.shape[0]))\n",
        "print(\"Colunas:\\t{}\".format(df.shape[1]))\n"
      ],
      "execution_count": null,
      "outputs": [
        {
          "output_type": "stream",
          "text": [
            "DIMENSÕES DO DATAFRAME:\n",
            "Linhas:\t\t45000\n",
            "Colunas:\t43\n"
          ],
          "name": "stdout"
        }
      ]
    },
    {
      "cell_type": "code",
      "metadata": {
        "id": "tPEDOa_3pCre",
        "outputId": "972ebec0-c444-4529-975d-2a4c182a77df",
        "colab": {
          "base_uri": "https://localhost:8080/",
          "height": 615
        }
      },
      "source": [
        "#ver as 5 primeiras entradas do dataset\n",
        "df.head()"
      ],
      "execution_count": null,
      "outputs": [
        {
          "output_type": "execute_result",
          "data": {
            "text/html": [
              "<div>\n",
              "<style scoped>\n",
              "    .dataframe tbody tr th:only-of-type {\n",
              "        vertical-align: middle;\n",
              "    }\n",
              "\n",
              "    .dataframe tbody tr th {\n",
              "        vertical-align: top;\n",
              "    }\n",
              "\n",
              "    .dataframe thead th {\n",
              "        text-align: right;\n",
              "    }\n",
              "</style>\n",
              "<table border=\"1\" class=\"dataframe\">\n",
              "  <thead>\n",
              "    <tr style=\"text-align: right;\">\n",
              "      <th></th>\n",
              "      <th>ids</th>\n",
              "      <th>target_default</th>\n",
              "      <th>score_1</th>\n",
              "      <th>score_2</th>\n",
              "      <th>score_3</th>\n",
              "      <th>score_4</th>\n",
              "      <th>score_5</th>\n",
              "      <th>score_6</th>\n",
              "      <th>risk_rate</th>\n",
              "      <th>last_amount_borrowed</th>\n",
              "      <th>last_borrowed_in_months</th>\n",
              "      <th>credit_limit</th>\n",
              "      <th>reason</th>\n",
              "      <th>income</th>\n",
              "      <th>facebook_profile</th>\n",
              "      <th>state</th>\n",
              "      <th>zip</th>\n",
              "      <th>channel</th>\n",
              "      <th>job_name</th>\n",
              "      <th>real_state</th>\n",
              "      <th>ok_since</th>\n",
              "      <th>n_bankruptcies</th>\n",
              "      <th>n_defaulted_loans</th>\n",
              "      <th>n_accounts</th>\n",
              "      <th>n_issues</th>\n",
              "      <th>application_time_applied</th>\n",
              "      <th>application_time_in_funnel</th>\n",
              "      <th>email</th>\n",
              "      <th>external_data_provider_credit_checks_last_2_year</th>\n",
              "      <th>external_data_provider_credit_checks_last_month</th>\n",
              "      <th>external_data_provider_credit_checks_last_year</th>\n",
              "      <th>external_data_provider_email_seen_before</th>\n",
              "      <th>external_data_provider_first_name</th>\n",
              "      <th>external_data_provider_fraud_score</th>\n",
              "      <th>lat_lon</th>\n",
              "      <th>marketing_channel</th>\n",
              "      <th>profile_phone_number</th>\n",
              "      <th>reported_income</th>\n",
              "      <th>shipping_state</th>\n",
              "      <th>shipping_zip_code</th>\n",
              "      <th>profile_tags</th>\n",
              "      <th>user_agent</th>\n",
              "      <th>target_fraud</th>\n",
              "    </tr>\n",
              "  </thead>\n",
              "  <tbody>\n",
              "    <tr>\n",
              "      <th>0</th>\n",
              "      <td>343b7e7b-2cf8-e508-b8fd-0a0285af30aa</td>\n",
              "      <td>False</td>\n",
              "      <td>1Rk8w4Ucd5yR3KcqZzLdow==</td>\n",
              "      <td>IOVu8au3ISbo6+zmfnYwMg==</td>\n",
              "      <td>350.0</td>\n",
              "      <td>101.800832</td>\n",
              "      <td>0.259555</td>\n",
              "      <td>108.427273</td>\n",
              "      <td>0.40</td>\n",
              "      <td>25033.92</td>\n",
              "      <td>36.0</td>\n",
              "      <td>0.0</td>\n",
              "      <td>mLVIVxoGY7TUDJ1FyFoSIZi1SFcaBmO01AydRchaEiGYtU...</td>\n",
              "      <td>65014.12</td>\n",
              "      <td>True</td>\n",
              "      <td>sjJbkqJS7cXalHLBFA+EOQ==</td>\n",
              "      <td>Ernn+uVXCMq/6ARrBCcd+A==</td>\n",
              "      <td>NCqL3QBx0pscDnx3ixKwXg==</td>\n",
              "      <td>mLVIVxoGY7TUDJ1FyFoSIZi1SFcaBmO01AydRchaEiGYtU...</td>\n",
              "      <td>N5/CE7lSkAfB04hVFFwllw==</td>\n",
              "      <td>NaN</td>\n",
              "      <td>0.0</td>\n",
              "      <td>0.0</td>\n",
              "      <td>18.0</td>\n",
              "      <td>18.0</td>\n",
              "      <td>07:52:34</td>\n",
              "      <td>444</td>\n",
              "      <td>outlook.com</td>\n",
              "      <td>NaN</td>\n",
              "      <td>2</td>\n",
              "      <td>0.0</td>\n",
              "      <td>51.0</td>\n",
              "      <td>leidelaura</td>\n",
              "      <td>645</td>\n",
              "      <td>(-29.151545708122246, -51.1386461804385)</td>\n",
              "      <td>Invite-email</td>\n",
              "      <td>514-9840782</td>\n",
              "      <td>57849.0</td>\n",
              "      <td>BR-MT</td>\n",
              "      <td>17528</td>\n",
              "      <td>{'tags': ['n19', 'n8']}</td>\n",
              "      <td>Mozilla/5.0 (Linux; Android 6.0.1; SGP771 Buil...</td>\n",
              "      <td>NaN</td>\n",
              "    </tr>\n",
              "    <tr>\n",
              "      <th>1</th>\n",
              "      <td>bc2c7502-bbad-0f8c-39c3-94e881967124</td>\n",
              "      <td>False</td>\n",
              "      <td>DGCQep2AE5QRkNCshIAlFQ==</td>\n",
              "      <td>SaamrHMo23l/3TwXOWgVzw==</td>\n",
              "      <td>370.0</td>\n",
              "      <td>97.062615</td>\n",
              "      <td>0.942655</td>\n",
              "      <td>92.002546</td>\n",
              "      <td>0.24</td>\n",
              "      <td>NaN</td>\n",
              "      <td>NaN</td>\n",
              "      <td>39726.0</td>\n",
              "      <td>mLVIVxoGY7TUDJ1FyFoSIZi1SFcaBmO01AydRchaEiGYtU...</td>\n",
              "      <td>100018.91</td>\n",
              "      <td>False</td>\n",
              "      <td>xsd3ZdsI3356I3xMxZeiqQ==</td>\n",
              "      <td>rlWIXTBO+VOa34+SpGyhlQ==</td>\n",
              "      <td>NCqL3QBx0pscDnx3ixKwXg==</td>\n",
              "      <td>mLVIVxoGY7TUDJ1FyFoSIZi1SFcaBmO01AydRchaEiGYtU...</td>\n",
              "      <td>N5/CE7lSkAfB04hVFFwllw==</td>\n",
              "      <td>50.0</td>\n",
              "      <td>0.0</td>\n",
              "      <td>0.0</td>\n",
              "      <td>14.0</td>\n",
              "      <td>14.0</td>\n",
              "      <td>02:34:29</td>\n",
              "      <td>346</td>\n",
              "      <td>gmail.com</td>\n",
              "      <td>0.0</td>\n",
              "      <td>1</td>\n",
              "      <td>0.0</td>\n",
              "      <td>17.0</td>\n",
              "      <td>diocezio</td>\n",
              "      <td>243</td>\n",
              "      <td>(-19.687710705798963, -47.94151536525154)</td>\n",
              "      <td>Radio-commercial</td>\n",
              "      <td>251-3659293</td>\n",
              "      <td>4902.0</td>\n",
              "      <td>BR-RS</td>\n",
              "      <td>40933</td>\n",
              "      <td>{'tags': ['n6', 'n7', 'nim']}</td>\n",
              "      <td>Mozilla/5.0 (Linux; Android 5.0.2; SAMSUNG SM-...</td>\n",
              "      <td>NaN</td>\n",
              "    </tr>\n",
              "    <tr>\n",
              "      <th>2</th>\n",
              "      <td>669630dd-2e6a-0396-84bf-455e5009c922</td>\n",
              "      <td>True</td>\n",
              "      <td>DGCQep2AE5QRkNCshIAlFQ==</td>\n",
              "      <td>Fv28Bz0YRTVAT5kl1bAV6g==</td>\n",
              "      <td>360.0</td>\n",
              "      <td>100.027073</td>\n",
              "      <td>0.351918</td>\n",
              "      <td>112.892453</td>\n",
              "      <td>0.29</td>\n",
              "      <td>7207.92</td>\n",
              "      <td>36.0</td>\n",
              "      <td>NaN</td>\n",
              "      <td>mLVIVxoGY7TUDJ1FyFoSIZi1SFcaBmO01AydRchaEiGYtU...</td>\n",
              "      <td>65023.65</td>\n",
              "      <td>NaN</td>\n",
              "      <td>Ygq6MsM98oC8yceExr69Ig==</td>\n",
              "      <td>PjTIDfJsK0DKL9fO7vuW2g==</td>\n",
              "      <td>NCqL3QBx0pscDnx3ixKwXg==</td>\n",
              "      <td>mLVIVxoGY7TUDJ1FyFoSIZi1SFcaBmO01AydRchaEiGYtU...</td>\n",
              "      <td>n+xK9CfX0bCn77lClTWviw==</td>\n",
              "      <td>NaN</td>\n",
              "      <td>0.0</td>\n",
              "      <td>0.0</td>\n",
              "      <td>10.0</td>\n",
              "      <td>NaN</td>\n",
              "      <td>00:60:02</td>\n",
              "      <td>6</td>\n",
              "      <td>gmail.com</td>\n",
              "      <td>NaN</td>\n",
              "      <td>2</td>\n",
              "      <td>NaN</td>\n",
              "      <td>9.0</td>\n",
              "      <td>veralucia</td>\n",
              "      <td>65</td>\n",
              "      <td>(-28.748023890412284, -51.867279334353995)</td>\n",
              "      <td>Waiting-list</td>\n",
              "      <td>230-6097993</td>\n",
              "      <td>163679.0</td>\n",
              "      <td>BR-RR</td>\n",
              "      <td>50985</td>\n",
              "      <td>{'tags': ['n0', 'n17', 'nim', 'da']}</td>\n",
              "      <td>Mozilla/5.0 (Linux; Android 6.0.1; SGP771 Buil...</td>\n",
              "      <td>NaN</td>\n",
              "    </tr>\n",
              "    <tr>\n",
              "      <th>3</th>\n",
              "      <td>d235609e-b6cb-0ccc-a329-d4f12e7ebdc1</td>\n",
              "      <td>False</td>\n",
              "      <td>1Rk8w4Ucd5yR3KcqZzLdow==</td>\n",
              "      <td>dCm9hFKfdRm7ej3jW+gyxw==</td>\n",
              "      <td>510.0</td>\n",
              "      <td>101.599485</td>\n",
              "      <td>0.987673</td>\n",
              "      <td>94.902491</td>\n",
              "      <td>0.32</td>\n",
              "      <td>NaN</td>\n",
              "      <td>NaN</td>\n",
              "      <td>54591.0</td>\n",
              "      <td>mLVIVxoGY7TUDJ1FyFoSIZi1SFcaBmO01AydRchaEiGYtU...</td>\n",
              "      <td>68830.01</td>\n",
              "      <td>False</td>\n",
              "      <td>KET/Pmr6rHp1RJ/P9ymztw==</td>\n",
              "      <td>Cc/kWDLQH3dpHv5HU+pLVA==</td>\n",
              "      <td>NCqL3QBx0pscDnx3ixKwXg==</td>\n",
              "      <td>mLVIVxoGY7TUDJ1FyFoSIZi1SFcaBmO01AydRchaEiE56f...</td>\n",
              "      <td>n+xK9CfX0bCn77lClTWviw==</td>\n",
              "      <td>NaN</td>\n",
              "      <td>1.0</td>\n",
              "      <td>0.0</td>\n",
              "      <td>19.0</td>\n",
              "      <td>19.0</td>\n",
              "      <td>11:20:49</td>\n",
              "      <td>406</td>\n",
              "      <td>spgov.com</td>\n",
              "      <td>NaN</td>\n",
              "      <td>3</td>\n",
              "      <td>NaN</td>\n",
              "      <td>38.0</td>\n",
              "      <td>venice</td>\n",
              "      <td>815</td>\n",
              "      <td>(-17.520650158450454, -39.75801139933186)</td>\n",
              "      <td>Waiting-list</td>\n",
              "      <td>261-3543751</td>\n",
              "      <td>1086.0</td>\n",
              "      <td>BR-RN</td>\n",
              "      <td>37825</td>\n",
              "      <td>{'tags': ['n4']}</td>\n",
              "      <td>Mozilla/5.0 (Linux; Android 6.0; HTC One X10 B...</td>\n",
              "      <td>NaN</td>\n",
              "    </tr>\n",
              "    <tr>\n",
              "      <th>4</th>\n",
              "      <td>9e0eb880-e8f4-3faa-67d8-f5cdd2b3932b</td>\n",
              "      <td>False</td>\n",
              "      <td>8k8UDR4Yx0qasAjkGrUZLw==</td>\n",
              "      <td>+CxEO4w7jv3QPI/BQbyqAA==</td>\n",
              "      <td>500.0</td>\n",
              "      <td>98.474289</td>\n",
              "      <td>0.532539</td>\n",
              "      <td>118.126207</td>\n",
              "      <td>0.18</td>\n",
              "      <td>NaN</td>\n",
              "      <td>NaN</td>\n",
              "      <td>NaN</td>\n",
              "      <td>mLVIVxoGY7TUDJ1FyFoSIZi1SFcaBmO01AydRchaEiGYtU...</td>\n",
              "      <td>60011.29</td>\n",
              "      <td>True</td>\n",
              "      <td>xsd3ZdsI3356I3xMxZeiqQ==</td>\n",
              "      <td>i036nmJ7rfxo+3EvCD7Jnw==</td>\n",
              "      <td>NCqL3QBx0pscDnx3ixKwXg==</td>\n",
              "      <td>mLVIVxoGY7TUDJ1FyFoSIZi1SFcaBmO01AydRchaEiGYtU...</td>\n",
              "      <td>n+xK9CfX0bCn77lClTWviw==</td>\n",
              "      <td>NaN</td>\n",
              "      <td>0.0</td>\n",
              "      <td>0.0</td>\n",
              "      <td>11.0</td>\n",
              "      <td>NaN</td>\n",
              "      <td>13:39:03</td>\n",
              "      <td>240</td>\n",
              "      <td>gmail.com</td>\n",
              "      <td>0.0</td>\n",
              "      <td>2</td>\n",
              "      <td>1.0</td>\n",
              "      <td>46.0</td>\n",
              "      <td>darzisa</td>\n",
              "      <td>320</td>\n",
              "      <td>(-16.574259446978008, -39.90990074785962)</td>\n",
              "      <td>Invite-email</td>\n",
              "      <td>102-3660162</td>\n",
              "      <td>198618.0</td>\n",
              "      <td>BR-MT</td>\n",
              "      <td>52827</td>\n",
              "      <td>{'tags': ['pro+aty', 'n19', 'da', 'b19']}</td>\n",
              "      <td>Mozilla/5.0 (Linux; Android 7.0; Pixel C Build...</td>\n",
              "      <td>NaN</td>\n",
              "    </tr>\n",
              "  </tbody>\n",
              "</table>\n",
              "</div>"
            ],
            "text/plain": [
              "                                    ids  ... target_fraud\n",
              "0  343b7e7b-2cf8-e508-b8fd-0a0285af30aa  ...          NaN\n",
              "1  bc2c7502-bbad-0f8c-39c3-94e881967124  ...          NaN\n",
              "2  669630dd-2e6a-0396-84bf-455e5009c922  ...          NaN\n",
              "3  d235609e-b6cb-0ccc-a329-d4f12e7ebdc1  ...          NaN\n",
              "4  9e0eb880-e8f4-3faa-67d8-f5cdd2b3932b  ...          NaN\n",
              "\n",
              "[5 rows x 43 columns]"
            ]
          },
          "metadata": {
            "tags": []
          },
          "execution_count": 4
        }
      ]
    },
    {
      "cell_type": "markdown",
      "metadata": {
        "id": "ZZoZBvncsKzX"
      },
      "source": [
        "***Algumas conclusões inicias:***\n",
        "\n",
        "- De antemão é possível identificar algumas colunas com valores codificados, muitas com dados pessoais de cada cliente (por exemplo *ids, score_1, score_2, state, zip, job_name*, entre outras), uma forma de garantir uma segurança na confidencialidade das informações. \n",
        "- A classe é a variável 'target_default', ela é a classificadora  de inadimplência, sendo: \n",
        "\n",
        "  *TRUE* - inadimplente; \n",
        "  \n",
        "  *FALSE* - não inadimplente\n",
        "\n",
        "- Uma coluna com um classificador de risco (risk_rate) para cada cliente.\n",
        "- A coluna 'target_fraud' seria a variável alvo de outro modelo para este mesmo dataset, onde o objetivo seria a detecção de fraude.\n",
        "- Algumas colunas mostrando localização, como latitude e longitude ('lat_lon'- em formato string contendo uma tupla com as coordenadas), estado e código postal, informações até interessantes para outros tipos de análises levando em consideração as localidades dos clientes, como este não é o objetivo dessa análise não me aprofundarei.\n"
      ]
    },
    {
      "cell_type": "code",
      "metadata": {
        "id": "d4gW6KAidGho",
        "outputId": "f149a83d-f7d2-4ead-9e6d-cc08350d8969",
        "colab": {
          "base_uri": "https://localhost:8080/",
          "height": 297
        }
      },
      "source": [
        "#resumo estatistico \n",
        "df.describe()"
      ],
      "execution_count": null,
      "outputs": [
        {
          "output_type": "execute_result",
          "data": {
            "text/html": [
              "<div>\n",
              "<style scoped>\n",
              "    .dataframe tbody tr th:only-of-type {\n",
              "        vertical-align: middle;\n",
              "    }\n",
              "\n",
              "    .dataframe tbody tr th {\n",
              "        vertical-align: top;\n",
              "    }\n",
              "\n",
              "    .dataframe thead th {\n",
              "        text-align: right;\n",
              "    }\n",
              "</style>\n",
              "<table border=\"1\" class=\"dataframe\">\n",
              "  <thead>\n",
              "    <tr style=\"text-align: right;\">\n",
              "      <th></th>\n",
              "      <th>score_3</th>\n",
              "      <th>score_4</th>\n",
              "      <th>score_5</th>\n",
              "      <th>score_6</th>\n",
              "      <th>risk_rate</th>\n",
              "      <th>last_amount_borrowed</th>\n",
              "      <th>last_borrowed_in_months</th>\n",
              "      <th>credit_limit</th>\n",
              "      <th>income</th>\n",
              "      <th>ok_since</th>\n",
              "      <th>n_bankruptcies</th>\n",
              "      <th>n_defaulted_loans</th>\n",
              "      <th>n_accounts</th>\n",
              "      <th>n_issues</th>\n",
              "      <th>application_time_in_funnel</th>\n",
              "      <th>external_data_provider_credit_checks_last_2_year</th>\n",
              "      <th>external_data_provider_credit_checks_last_month</th>\n",
              "      <th>external_data_provider_credit_checks_last_year</th>\n",
              "      <th>external_data_provider_email_seen_before</th>\n",
              "      <th>external_data_provider_fraud_score</th>\n",
              "      <th>reported_income</th>\n",
              "      <th>shipping_zip_code</th>\n",
              "    </tr>\n",
              "  </thead>\n",
              "  <tbody>\n",
              "    <tr>\n",
              "      <th>count</th>\n",
              "      <td>44438.000000</td>\n",
              "      <td>45000.000000</td>\n",
              "      <td>45000.000000</td>\n",
              "      <td>45000.000000</td>\n",
              "      <td>44438.000000</td>\n",
              "      <td>15044.000000</td>\n",
              "      <td>15044.000000</td>\n",
              "      <td>31200.000000</td>\n",
              "      <td>4.443800e+04</td>\n",
              "      <td>18455.000000</td>\n",
              "      <td>44303.000000</td>\n",
              "      <td>44426.000000</td>\n",
              "      <td>44438.000000</td>\n",
              "      <td>33456.000000</td>\n",
              "      <td>45000.000000</td>\n",
              "      <td>22372.0</td>\n",
              "      <td>45000.000000</td>\n",
              "      <td>29876.000000</td>\n",
              "      <td>42767.000000</td>\n",
              "      <td>45000.000000</td>\n",
              "      <td>45000.00</td>\n",
              "      <td>45000.000000</td>\n",
              "    </tr>\n",
              "    <tr>\n",
              "      <th>mean</th>\n",
              "      <td>347.983258</td>\n",
              "      <td>100.006797</td>\n",
              "      <td>0.500037</td>\n",
              "      <td>99.925228</td>\n",
              "      <td>0.296717</td>\n",
              "      <td>13782.341991</td>\n",
              "      <td>41.763893</td>\n",
              "      <td>34381.951154</td>\n",
              "      <td>7.160739e+04</td>\n",
              "      <td>35.069737</td>\n",
              "      <td>0.076270</td>\n",
              "      <td>0.004569</td>\n",
              "      <td>10.696701</td>\n",
              "      <td>11.068119</td>\n",
              "      <td>247.537000</td>\n",
              "      <td>0.0</td>\n",
              "      <td>1.501067</td>\n",
              "      <td>0.503381</td>\n",
              "      <td>12.534781</td>\n",
              "      <td>500.399800</td>\n",
              "      <td>inf</td>\n",
              "      <td>33923.514844</td>\n",
              "    </tr>\n",
              "    <tr>\n",
              "      <th>std</th>\n",
              "      <td>110.429165</td>\n",
              "      <td>3.178080</td>\n",
              "      <td>0.288326</td>\n",
              "      <td>10.016549</td>\n",
              "      <td>0.101933</td>\n",
              "      <td>8077.571933</td>\n",
              "      <td>10.252705</td>\n",
              "      <td>36586.982218</td>\n",
              "      <td>5.185897e+04</td>\n",
              "      <td>21.663194</td>\n",
              "      <td>0.274052</td>\n",
              "      <td>0.079400</td>\n",
              "      <td>4.592463</td>\n",
              "      <td>4.595501</td>\n",
              "      <td>146.118398</td>\n",
              "      <td>0.0</td>\n",
              "      <td>1.114941</td>\n",
              "      <td>0.499997</td>\n",
              "      <td>126.530487</td>\n",
              "      <td>287.968873</td>\n",
              "      <td>NaN</td>\n",
              "      <td>12692.406382</td>\n",
              "    </tr>\n",
              "    <tr>\n",
              "      <th>min</th>\n",
              "      <td>0.000000</td>\n",
              "      <td>86.191572</td>\n",
              "      <td>0.000035</td>\n",
              "      <td>60.663039</td>\n",
              "      <td>0.000000</td>\n",
              "      <td>1005.180000</td>\n",
              "      <td>36.000000</td>\n",
              "      <td>0.000000</td>\n",
              "      <td>4.821180e+03</td>\n",
              "      <td>0.000000</td>\n",
              "      <td>0.000000</td>\n",
              "      <td>0.000000</td>\n",
              "      <td>0.000000</td>\n",
              "      <td>0.000000</td>\n",
              "      <td>0.000000</td>\n",
              "      <td>0.0</td>\n",
              "      <td>0.000000</td>\n",
              "      <td>0.000000</td>\n",
              "      <td>-999.000000</td>\n",
              "      <td>0.000000</td>\n",
              "      <td>403.00</td>\n",
              "      <td>12001.000000</td>\n",
              "    </tr>\n",
              "    <tr>\n",
              "      <th>25%</th>\n",
              "      <td>270.000000</td>\n",
              "      <td>97.867036</td>\n",
              "      <td>0.252150</td>\n",
              "      <td>93.198353</td>\n",
              "      <td>0.220000</td>\n",
              "      <td>7519.502500</td>\n",
              "      <td>36.000000</td>\n",
              "      <td>10000.000000</td>\n",
              "      <td>4.501078e+04</td>\n",
              "      <td>17.000000</td>\n",
              "      <td>0.000000</td>\n",
              "      <td>0.000000</td>\n",
              "      <td>7.000000</td>\n",
              "      <td>8.000000</td>\n",
              "      <td>120.000000</td>\n",
              "      <td>0.0</td>\n",
              "      <td>1.000000</td>\n",
              "      <td>0.000000</td>\n",
              "      <td>11.000000</td>\n",
              "      <td>252.000000</td>\n",
              "      <td>50948.25</td>\n",
              "      <td>22937.000000</td>\n",
              "    </tr>\n",
              "    <tr>\n",
              "      <th>50%</th>\n",
              "      <td>340.000000</td>\n",
              "      <td>100.018900</td>\n",
              "      <td>0.500753</td>\n",
              "      <td>99.974796</td>\n",
              "      <td>0.290000</td>\n",
              "      <td>12023.465000</td>\n",
              "      <td>36.000000</td>\n",
              "      <td>25647.000000</td>\n",
              "      <td>6.126676e+04</td>\n",
              "      <td>32.000000</td>\n",
              "      <td>0.000000</td>\n",
              "      <td>0.000000</td>\n",
              "      <td>10.000000</td>\n",
              "      <td>10.000000</td>\n",
              "      <td>248.000000</td>\n",
              "      <td>0.0</td>\n",
              "      <td>2.000000</td>\n",
              "      <td>1.000000</td>\n",
              "      <td>27.000000</td>\n",
              "      <td>503.000000</td>\n",
              "      <td>101779.00</td>\n",
              "      <td>33896.000000</td>\n",
              "    </tr>\n",
              "    <tr>\n",
              "      <th>75%</th>\n",
              "      <td>420.000000</td>\n",
              "      <td>102.141797</td>\n",
              "      <td>0.748816</td>\n",
              "      <td>106.640275</td>\n",
              "      <td>0.360000</td>\n",
              "      <td>19220.270000</td>\n",
              "      <td>36.000000</td>\n",
              "      <td>47086.750000</td>\n",
              "      <td>8.601923e+04</td>\n",
              "      <td>50.000000</td>\n",
              "      <td>0.000000</td>\n",
              "      <td>0.000000</td>\n",
              "      <td>13.000000</td>\n",
              "      <td>14.000000</td>\n",
              "      <td>375.000000</td>\n",
              "      <td>0.0</td>\n",
              "      <td>2.000000</td>\n",
              "      <td>1.000000</td>\n",
              "      <td>43.000000</td>\n",
              "      <td>747.000000</td>\n",
              "      <td>151337.25</td>\n",
              "      <td>44910.000000</td>\n",
              "    </tr>\n",
              "    <tr>\n",
              "      <th>max</th>\n",
              "      <td>990.000000</td>\n",
              "      <td>113.978234</td>\n",
              "      <td>0.999973</td>\n",
              "      <td>142.192400</td>\n",
              "      <td>0.900000</td>\n",
              "      <td>35059.600000</td>\n",
              "      <td>60.000000</td>\n",
              "      <td>448269.000000</td>\n",
              "      <td>5.000028e+06</td>\n",
              "      <td>141.000000</td>\n",
              "      <td>5.000000</td>\n",
              "      <td>5.000000</td>\n",
              "      <td>49.000000</td>\n",
              "      <td>49.000000</td>\n",
              "      <td>500.000000</td>\n",
              "      <td>0.0</td>\n",
              "      <td>3.000000</td>\n",
              "      <td>1.000000</td>\n",
              "      <td>59.000000</td>\n",
              "      <td>1000.000000</td>\n",
              "      <td>inf</td>\n",
              "      <td>56000.000000</td>\n",
              "    </tr>\n",
              "  </tbody>\n",
              "</table>\n",
              "</div>"
            ],
            "text/plain": [
              "            score_3       score_4  ...  reported_income  shipping_zip_code\n",
              "count  44438.000000  45000.000000  ...         45000.00       45000.000000\n",
              "mean     347.983258    100.006797  ...              inf       33923.514844\n",
              "std      110.429165      3.178080  ...              NaN       12692.406382\n",
              "min        0.000000     86.191572  ...           403.00       12001.000000\n",
              "25%      270.000000     97.867036  ...         50948.25       22937.000000\n",
              "50%      340.000000    100.018900  ...        101779.00       33896.000000\n",
              "75%      420.000000    102.141797  ...        151337.25       44910.000000\n",
              "max      990.000000    113.978234  ...              inf       56000.000000\n",
              "\n",
              "[8 rows x 22 columns]"
            ]
          },
          "metadata": {
            "tags": []
          },
          "execution_count": 2
        }
      ]
    },
    {
      "cell_type": "markdown",
      "metadata": {
        "id": "Z38oAE0QtNaW"
      },
      "source": [
        "***Observação do resumo das principais informações estatísticas:***\n",
        "\n",
        "* A coluna 'external_data_provider_credit_checks_last_2_year' possui valores mínimos, máximos e desvio-padrão iguais a zero.\n",
        "* A coluna 'reported_income' apresenta valores *inf*, que irão interferir na análise e modelo. Substituirei os valores do tipo 'np.inf' por 'np.nan' para trabalhar com os dados.\n",
        "\n",
        "* A coluna 'external_data_provider_email_seen_before' apresenta o valor mínimo de -999, o que é estranho ao se considerar as outras informações. \n",
        "Vou verificar plotando um gráfico abaixo:"
      ]
    },
    {
      "cell_type": "code",
      "metadata": {
        "id": "9yWoJr14TACc",
        "outputId": "9dd400a3-e4f6-43f5-8cad-cece3c155aca",
        "colab": {
          "base_uri": "https://localhost:8080/",
          "height": 280
        }
      },
      "source": [
        "sns.boxplot(df['external_data_provider_email_seen_before'])\n",
        "plt.show()\n"
      ],
      "execution_count": null,
      "outputs": [
        {
          "output_type": "display_data",
          "data": {
            "image/png": "[encoded data removed]",
            "text/plain": [
              "<Figure size 432x288 with 1 Axes>"
            ]
          },
          "metadata": {
            "tags": [],
            "needs_background": "light"
          }
        }
      ]
    },
    {
      "cell_type": "markdown",
      "metadata": {
        "id": "qfdri8bEMNVc"
      },
      "source": [
        "Por está análise concluo que esse dados são *outliers* ou foram tratados inadequadamente. Substituirei à frente os valores iguais a -999 por 'np.nan'.\n",
        "\n",
        "\n",
        "Após esta etapa, irei verificar os tipos de cada variáveis e também a quantidade de valores ausentes em cada uma.\n"
      ]
    },
    {
      "cell_type": "code",
      "metadata": {
        "id": "Q890Mf1Vf1aJ",
        "outputId": "a4f8fcc1-8da8-4203-fd05-44b6c3a65219",
        "colab": {
          "base_uri": "https://localhost:8080/",
          "height": 765
        }
      },
      "source": [
        "#tipos das variaveis\n",
        "df.dtypes"
      ],
      "execution_count": null,
      "outputs": [
        {
          "output_type": "execute_result",
          "data": {
            "text/plain": [
              "ids                                                  object\n",
              "target_default                                       object\n",
              "score_1                                              object\n",
              "score_2                                              object\n",
              "score_3                                             float64\n",
              "score_4                                             float64\n",
              "score_5                                             float64\n",
              "score_6                                             float64\n",
              "risk_rate                                           float64\n",
              "last_amount_borrowed                                float64\n",
              "last_borrowed_in_months                             float64\n",
              "credit_limit                                        float64\n",
              "reason                                               object\n",
              "income                                              float64\n",
              "facebook_profile                                     object\n",
              "state                                                object\n",
              "zip                                                  object\n",
              "channel                                              object\n",
              "job_name                                             object\n",
              "real_state                                           object\n",
              "ok_since                                            float64\n",
              "n_bankruptcies                                      float64\n",
              "n_defaulted_loans                                   float64\n",
              "n_accounts                                          float64\n",
              "n_issues                                            float64\n",
              "application_time_applied                             object\n",
              "application_time_in_funnel                            int64\n",
              "email                                                object\n",
              "external_data_provider_credit_checks_last_2_year    float64\n",
              "external_data_provider_credit_checks_last_month       int64\n",
              "external_data_provider_credit_checks_last_year      float64\n",
              "external_data_provider_email_seen_before            float64\n",
              "external_data_provider_first_name                    object\n",
              "external_data_provider_fraud_score                    int64\n",
              "lat_lon                                              object\n",
              "marketing_channel                                    object\n",
              "profile_phone_number                                 object\n",
              "reported_income                                     float64\n",
              "shipping_state                                       object\n",
              "shipping_zip_code                                     int64\n",
              "profile_tags                                         object\n",
              "user_agent                                           object\n",
              "target_fraud                                         object\n",
              "dtype: object"
            ]
          },
          "metadata": {
            "tags": []
          },
          "execution_count": 6
        }
      ]
    },
    {
      "cell_type": "code",
      "metadata": {
        "id": "C4uW3S-edJXf",
        "outputId": "16cbc583-1a24-493b-b451-87061fc6a9cc",
        "colab": {
          "base_uri": "https://localhost:8080/",
          "height": 732
        }
      },
      "source": [
        "#variaveis com valores ausentes\n",
        "(df.isnull().sum()/df.shape[0]).sort_values(ascending=False)"
      ],
      "execution_count": null,
      "outputs": [
        {
          "output_type": "execute_result",
          "data": {
            "text/plain": [
              "target_fraud                                        0.966178\n",
              "last_amount_borrowed                                0.665689\n",
              "last_borrowed_in_months                             0.665689\n",
              "ok_since                                            0.589889\n",
              "external_data_provider_credit_checks_last_2_year    0.502844\n",
              "external_data_provider_credit_checks_last_year      0.336089\n",
              "credit_limit                                        0.306667\n",
              "n_issues                                            0.256533\n",
              "facebook_profile                                    0.099067\n",
              "marketing_channel                                   0.079511\n",
              "job_name                                            0.074133\n",
              "target_default                                      0.072422\n",
              "external_data_provider_email_seen_before            0.049622\n",
              "lat_lon                                             0.030289\n",
              "user_agent                                          0.016044\n",
              "n_bankruptcies                                      0.015489\n",
              "n_defaulted_loans                                   0.012756\n",
              "reason                                              0.012578\n",
              "income                                              0.012489\n",
              "real_state                                          0.012489\n",
              "state                                               0.012489\n",
              "zip                                                 0.012489\n",
              "channel                                             0.012489\n",
              "score_3                                             0.012489\n",
              "score_2                                             0.012489\n",
              "score_1                                             0.012489\n",
              "n_accounts                                          0.012489\n",
              "risk_rate                                           0.012489\n",
              "shipping_zip_code                                   0.000000\n",
              "score_4                                             0.000000\n",
              "score_5                                             0.000000\n",
              "profile_tags                                        0.000000\n",
              "score_6                                             0.000000\n",
              "application_time_in_funnel                          0.000000\n",
              "shipping_state                                      0.000000\n",
              "reported_income                                     0.000000\n",
              "application_time_applied                            0.000000\n",
              "profile_phone_number                                0.000000\n",
              "external_data_provider_fraud_score                  0.000000\n",
              "external_data_provider_first_name                   0.000000\n",
              "external_data_provider_credit_checks_last_month     0.000000\n",
              "email                                               0.000000\n",
              "ids                                                 0.000000\n",
              "dtype: float64"
            ]
          },
          "metadata": {
            "tags": []
          },
          "execution_count": 3
        }
      ]
    },
    {
      "cell_type": "markdown",
      "metadata": {
        "id": "09hQ840iG-dG"
      },
      "source": [
        "Algumas variáveis possuem um pouco mais da metade de seus dados ausentes, algumas poderemos desconsiderar, pois para o desafio proposto não serão relevantes.\n",
        "\n",
        "E somente a variável 'target_fraud' que como eu já havia mencionado acima, é uma classe de outro modelo, possui quase 100% dos dados ausentes, então ela também poderá ser eliminada.\n",
        "\n",
        "As outras variáveis irei analisar melhor abaixo:"
      ]
    },
    {
      "cell_type": "code",
      "metadata": {
        "id": "Q9C8FLf6hJ2o",
        "outputId": "828ccbaa-dc00-424c-8c20-1ad54419bfbe",
        "colab": {
          "base_uri": "https://localhost:8080/",
          "height": 765
        }
      },
      "source": [
        "#valores unicos nas features\n",
        "df.nunique().sort_values()"
      ],
      "execution_count": null,
      "outputs": [
        {
          "output_type": "execute_result",
          "data": {
            "text/plain": [
              "external_data_provider_credit_checks_last_2_year        1\n",
              "channel                                                 1\n",
              "target_fraud                                            2\n",
              "target_default                                          2\n",
              "external_data_provider_credit_checks_last_year          2\n",
              "facebook_profile                                        2\n",
              "last_borrowed_in_months                                 2\n",
              "external_data_provider_credit_checks_last_month         4\n",
              "n_defaulted_loans                                       5\n",
              "real_state                                              5\n",
              "email                                                   6\n",
              "n_bankruptcies                                          6\n",
              "score_1                                                 7\n",
              "marketing_channel                                       9\n",
              "shipping_state                                         25\n",
              "score_2                                                35\n",
              "n_issues                                               44\n",
              "n_accounts                                             44\n",
              "state                                                  50\n",
              "external_data_provider_email_seen_before               62\n",
              "risk_rate                                              82\n",
              "score_3                                                88\n",
              "ok_since                                              100\n",
              "user_agent                                            297\n",
              "application_time_in_funnel                            501\n",
              "zip                                                   823\n",
              "external_data_provider_fraud_score                   1001\n",
              "last_amount_borrowed                                14325\n",
              "reason                                              14874\n",
              "credit_limit                                        20928\n",
              "lat_lon                                             22412\n",
              "profile_tags                                        26131\n",
              "shipping_zip_code                                   28263\n",
              "job_name                                            32265\n",
              "external_data_provider_first_name                   32886\n",
              "application_time_applied                            35543\n",
              "reported_income                                     40025\n",
              "income                                              41211\n",
              "score_4                                             45000\n",
              "score_5                                             45000\n",
              "score_6                                             45000\n",
              "profile_phone_number                                45000\n",
              "ids                                                 45000\n",
              "dtype: int64"
            ]
          },
          "metadata": {
            "tags": []
          },
          "execution_count": 13
        }
      ]
    },
    {
      "cell_type": "markdown",
      "metadata": {
        "id": "BmFPAbRmurb2"
      },
      "source": [
        "Essa função serve para verificarmos a quantidades de dados únicos em cada variável. \n",
        "\n",
        "Vamos as *observações:*\n",
        "\n",
        "- As primeiras variáveis 'external_data_provider_credit_checks_last_2_year' e 'channel' possuem um único valor em todas as linhas, logo elas não serão útil para o modelo. \n",
        "- Algumas outras possuem também poucos valores e eliminarei mais à frente, levando em consideração que podem não acrescentar valor útil ao modelo.\n",
        "- As ultimas duas variáveis que possuem em cada linhas 45 mil valores diferentes, também será desconsiderada, pois não são informações relevantes para esta análise."
      ]
    },
    {
      "cell_type": "markdown",
      "metadata": {
        "id": "QPR6zSIlaLQx"
      },
      "source": [
        "Antes de prosseguir para a limpeza e preparação dos dados vamos conferir a quantidade de inadimplentes presentes neste dataset."
      ]
    },
    {
      "cell_type": "code",
      "metadata": {
        "id": "7Em0m_bZiJuR",
        "outputId": "c67e2fe3-1efb-4111-846b-7477ab1ef9e5",
        "colab": {
          "base_uri": "https://localhost:8080/",
          "height": 397
        }
      },
      "source": [
        "fig, ax = plt.subplots()\n",
        "sns.countplot(df.target_default, ax=ax)\n",
        "ax.set_title('Inadimplentes')\n",
        "ax.set_xlabel('Valor')\n",
        "ax.set_ylabel('Qtde')\n",
        "plt.show()\n",
        "\n",
        "\n",
        "print(df.target_default.value_counts())\n",
        "print('\\nQuantos % de inadimplentes no dataset: {:.4f}%\\n'.format(df[df.target_default ==1].shape[0]/ df.shape[0] * 100))\n",
        "\n"
      ],
      "execution_count": null,
      "outputs": [
        {
          "output_type": "display_data",
          "data": {
            "image/png": "[encoded data removed]",
            "text/plain": [
              "<Figure size 432x288 with 1 Axes>"
            ]
          },
          "metadata": {
            "tags": [],
            "needs_background": "light"
          }
        },
        {
          "output_type": "stream",
          "text": [
            "False    35080\n",
            "True      6661\n",
            "Name: target_default, dtype: int64\n",
            "\n",
            "Quantos % de inadimplentes no dataset: 14.8022%\n",
            "\n"
          ],
          "name": "stdout"
        }
      ]
    },
    {
      "cell_type": "markdown",
      "metadata": {
        "id": "7IRS8Df5QrpY"
      },
      "source": [
        "Claramente a base de dados está desbalanceada, e na hora de criar um modelo de algoritmo com estes dados, ele aprenderá mais sobre a classe que tem maiores quantidades e então será um modelo enviesado, então, precisarei balancear estes dados.\n",
        "\n",
        "\n",
        "\n"
      ]
    },
    {
      "cell_type": "markdown",
      "metadata": {
        "id": "GV3Yyt41j7fi"
      },
      "source": [
        "**LIMPEZA E PREPARAÇÃO DOS DADOS**\n",
        "\n",
        "Nesta etapa, farei uma limpeza dos dados e prepará-los para criar o modelo.\n"
      ]
    },
    {
      "cell_type": "code",
      "metadata": {
        "id": "djsHBuldjii7"
      },
      "source": [
        "df_clean = df.copy()\n",
        "\n",
        "#subsitituir inf por NaN na variavel 'reported_income'\n",
        "df_clean['reported_income'] = df_clean['reported_income'].replace(np.inf, np.nan)\n",
        "           \n",
        "#substituir -999 por NaN na variavel external_data_provider_email_seen_before\n",
        "df_clean.loc[df_clean['external_data_provider_email_seen_before'] == -999.0,\n",
        "             'external_data_provider_email_seen_before'] = np.nan\n",
        "            \n",
        "#eliminar colunas sem informação aparente ou que demandam mais pesquisa\n",
        "drop_var= ['ids', 'target_fraud', 'external_data_provider_credit_checks_last_2_year','channel','reason',\n",
        "           'state', 'job_name', 'zip', 'external_data_provider_first_name','lat_lon', 'shipping_zip_code', \n",
        "           'user_agent', 'profile_tags', 'email', 'marketing_channel', 'external_data_provider_fraud_score', \n",
        "           'external_data_provider_first_name', 'profile_phone_number', 'shipping_state', 'facebook_profile']          \n",
        "df_clean.drop(labels= drop_var, axis=1, inplace=True)\n",
        "\n",
        "#eliminar as entradas NaN na target_default\n",
        "df_clean.dropna(subset=['target_default'], inplace=True)\n",
        "\n",
        "#substituicao de valores ausentes NaN por 0\n",
        "df_clean.last_amount_borrowed.fillna(value=0, inplace=True)\n",
        "df_clean.last_borrowed_in_months.fillna(value= 0, inplace=True)\n",
        "df_clean.n_issues.fillna(value=0, inplace=True)\n"
      ],
      "execution_count": 19,
      "outputs": []
    },
    {
      "cell_type": "markdown",
      "metadata": {
        "id": "dbDEbqnhYwl9"
      },
      "source": [
        "Em muitas destas features não temos maiores informações, e devido aos muitos valores nulos em algumas delas podemos identificar que alguns itens não são obrigatórios o preenchimento e em outros não é aplicável o preenchimento. \n",
        "\n",
        "Para estes casos, irei substituir o NaN por 0, as variáveis numéricas pelo valor da mediana e as variáveis categóricas para o valor mais frequente. \n",
        "\n",
        "Para fazer estas modificações utilizarei uma ferramenta do SKLearn chamada 'SimpleImputer'.\n"
      ]
    },
    {
      "cell_type": "code",
      "metadata": {
        "id": "zHD34rnXne9X"
      },
      "source": [
        "from sklearn.impute import SimpleImputer\n",
        "\n",
        "num_df= df_clean.select_dtypes(exclude='object').columns\n",
        "cat_df= df_clean.select_dtypes(include='object').columns\n",
        "\n",
        "#variaveis numericas\n",
        "imputer= SimpleImputer(missing_values= np.nan, strategy='median')\n",
        "imputer= imputer.fit(df_clean.loc[:, num_df])\n",
        "df_clean.loc[:, num_df] = imputer.transform(df_clean.loc[:, num_df])\n",
        "\n",
        "#variaveis categoricas\n",
        "imputer= SimpleImputer(missing_values= np.nan, strategy='most_frequent')\n",
        "imputer= imputer.fit(df_clean.loc[:, cat_df])\n",
        "df_clean.loc[:, cat_df] = imputer.transform(df_clean.loc[:, cat_df])\n"
      ],
      "execution_count": 20,
      "outputs": []
    },
    {
      "cell_type": "markdown",
      "metadata": {
        "id": "Vy2RaN35eOmY"
      },
      "source": [
        "Vamos verificar os valores nulos:\n"
      ]
    },
    {
      "cell_type": "code",
      "metadata": {
        "id": "3luzEsqgrumK",
        "outputId": "66d81956-74a9-4f99-8744-344ee1ba9960",
        "colab": {
          "base_uri": "https://localhost:8080/"
        }
      },
      "source": [
        "df_clean.isnull().sum()"
      ],
      "execution_count": null,
      "outputs": [
        {
          "output_type": "execute_result",
          "data": {
            "text/plain": [
              "target_default                                     0\n",
              "score_1                                            0\n",
              "score_2                                            0\n",
              "score_3                                            0\n",
              "score_4                                            0\n",
              "score_5                                            0\n",
              "score_6                                            0\n",
              "risk_rate                                          0\n",
              "last_amount_borrowed                               0\n",
              "last_borrowed_in_months                            0\n",
              "credit_limit                                       0\n",
              "income                                             0\n",
              "real_state                                         0\n",
              "ok_since                                           0\n",
              "n_bankruptcies                                     0\n",
              "n_defaulted_loans                                  0\n",
              "n_accounts                                         0\n",
              "n_issues                                           0\n",
              "application_time_applied                           0\n",
              "application_time_in_funnel                         0\n",
              "external_data_provider_credit_checks_last_month    0\n",
              "external_data_provider_credit_checks_last_year     0\n",
              "external_data_provider_email_seen_before           0\n",
              "reported_income                                    0\n",
              "dtype: int64"
            ]
          },
          "metadata": {
            "tags": []
          },
          "execution_count": 9
        }
      ]
    },
    {
      "cell_type": "code",
      "metadata": {
        "id": "nU_8SExx8fO8",
        "outputId": "dd838149-a8db-4f36-c33e-7ed85be665cf",
        "colab": {
          "base_uri": "https://localhost:8080/"
        }
      },
      "source": [
        "df_clean.shape"
      ],
      "execution_count": null,
      "outputs": [
        {
          "output_type": "execute_result",
          "data": {
            "text/plain": [
              "(41741, 24)"
            ]
          },
          "metadata": {
            "tags": []
          },
          "execution_count": 10
        }
      ]
    },
    {
      "cell_type": "markdown",
      "metadata": {
        "id": "70AyCKQ2ehoG"
      },
      "source": [
        "Feito! \n",
        "\n",
        "Próximo passo irei usar uma função de padronização de escala nas variáveis numéricas, chamada 'StandardScaler'."
      ]
    },
    {
      "cell_type": "code",
      "metadata": {
        "id": "jY0-jDKyr60a"
      },
      "source": [
        "from sklearn.preprocessing import StandardScaler\n",
        "\n",
        "      \n",
        "scaled_df= df_clean.copy()\n",
        "num_cols= scaled_df.drop('target_default', axis=1).select_dtypes(exclude='object').columns\n",
        "\n",
        "scaled_df[num_cols]= StandardScaler().fit_transform(scaled_df[num_cols].values)\n"
      ],
      "execution_count": 21,
      "outputs": []
    },
    {
      "cell_type": "markdown",
      "metadata": {
        "id": "BM9yFsPXfLXg"
      },
      "source": [
        "Continuando com a preparação dos dados para criação do modelo, irei utilizar a técnica 'LabelEncoder' para transformar as variáveis catégoricas em forma de labels numéricas."
      ]
    },
    {
      "cell_type": "code",
      "metadata": {
        "id": "Z1WZamG5paoc"
      },
      "source": [
        "from sklearn.preprocessing import LabelEncoder\n",
        "\n",
        "encoded_df = scaled_df.copy()\n",
        "#extrair colunas categoricas\n",
        "cat_cols= encoded_df.select_dtypes('object').columns\n",
        "\n",
        "#codificar cada coluna categórica\n",
        "for col in cat_cols:\n",
        "  encoded_df[col+'_encoded'] = LabelEncoder().fit_transform(encoded_df[col])\n",
        "  encoded_df.drop(col, axis=1, inplace=True)\n",
        " \n",
        "              "
      ],
      "execution_count": 22,
      "outputs": []
    },
    {
      "cell_type": "code",
      "metadata": {
        "id": "ft_vdY4l9KmH",
        "outputId": "da5bbab0-1a01-4b7f-cbbe-f531c5dd227c",
        "colab": {
          "base_uri": "https://localhost:8080/",
          "height": 224
        }
      },
      "source": [
        "encoded_df.head()\n"
      ],
      "execution_count": null,
      "outputs": [
        {
          "output_type": "execute_result",
          "data": {
            "text/html": [
              "<div>\n",
              "<style scoped>\n",
              "    .dataframe tbody tr th:only-of-type {\n",
              "        vertical-align: middle;\n",
              "    }\n",
              "\n",
              "    .dataframe tbody tr th {\n",
              "        vertical-align: top;\n",
              "    }\n",
              "\n",
              "    .dataframe thead th {\n",
              "        text-align: right;\n",
              "    }\n",
              "</style>\n",
              "<table border=\"1\" class=\"dataframe\">\n",
              "  <thead>\n",
              "    <tr style=\"text-align: right;\">\n",
              "      <th></th>\n",
              "      <th>target_default</th>\n",
              "      <th>score_3</th>\n",
              "      <th>score_4</th>\n",
              "      <th>score_5</th>\n",
              "      <th>score_6</th>\n",
              "      <th>risk_rate</th>\n",
              "      <th>last_amount_borrowed</th>\n",
              "      <th>last_borrowed_in_months</th>\n",
              "      <th>credit_limit</th>\n",
              "      <th>income</th>\n",
              "      <th>ok_since</th>\n",
              "      <th>n_bankruptcies</th>\n",
              "      <th>n_defaulted_loans</th>\n",
              "      <th>n_accounts</th>\n",
              "      <th>n_issues</th>\n",
              "      <th>application_time_in_funnel</th>\n",
              "      <th>external_data_provider_credit_checks_last_month</th>\n",
              "      <th>external_data_provider_credit_checks_last_year</th>\n",
              "      <th>external_data_provider_email_seen_before</th>\n",
              "      <th>reported_income</th>\n",
              "      <th>score_1_encoded</th>\n",
              "      <th>score_2_encoded</th>\n",
              "      <th>real_state_encoded</th>\n",
              "      <th>application_time_applied_encoded</th>\n",
              "    </tr>\n",
              "  </thead>\n",
              "  <tbody>\n",
              "    <tr>\n",
              "      <th>0</th>\n",
              "      <td>False</td>\n",
              "      <td>0.032154</td>\n",
              "      <td>0.563484</td>\n",
              "      <td>-0.832617</td>\n",
              "      <td>0.848870</td>\n",
              "      <td>1.039282</td>\n",
              "      <td>2.627224</td>\n",
              "      <td>1.11413</td>\n",
              "      <td>-1.031599</td>\n",
              "      <td>-0.116075</td>\n",
              "      <td>-0.094349</td>\n",
              "      <td>-0.278592</td>\n",
              "      <td>-0.057693</td>\n",
              "      <td>1.604337</td>\n",
              "      <td>1.577495</td>\n",
              "      <td>1.341208</td>\n",
              "      <td>0.444809</td>\n",
              "      <td>-1.427247</td>\n",
              "      <td>1.322812</td>\n",
              "      <td>-0.040691</td>\n",
              "      <td>0</td>\n",
              "      <td>10</td>\n",
              "      <td>1</td>\n",
              "      <td>11345</td>\n",
              "    </tr>\n",
              "    <tr>\n",
              "      <th>1</th>\n",
              "      <td>False</td>\n",
              "      <td>0.213805</td>\n",
              "      <td>-0.924750</td>\n",
              "      <td>1.538588</td>\n",
              "      <td>-0.789902</td>\n",
              "      <td>-0.536149</td>\n",
              "      <td>-0.577743</td>\n",
              "      <td>-0.68792</td>\n",
              "      <td>0.283752</td>\n",
              "      <td>0.553756</td>\n",
              "      <td>1.191063</td>\n",
              "      <td>-0.278592</td>\n",
              "      <td>-0.057693</td>\n",
              "      <td>0.732520</td>\n",
              "      <td>0.937596</td>\n",
              "      <td>0.671463</td>\n",
              "      <td>-0.452701</td>\n",
              "      <td>-1.427247</td>\n",
              "      <td>-0.635622</td>\n",
              "      <td>-0.040691</td>\n",
              "      <td>3</td>\n",
              "      <td>16</td>\n",
              "      <td>1</td>\n",
              "      <td>3704</td>\n",
              "    </tr>\n",
              "    <tr>\n",
              "      <th>2</th>\n",
              "      <td>True</td>\n",
              "      <td>0.122980</td>\n",
              "      <td>0.006361</td>\n",
              "      <td>-0.512003</td>\n",
              "      <td>1.294382</td>\n",
              "      <td>-0.043827</td>\n",
              "      <td>0.345051</td>\n",
              "      <td>1.11413</td>\n",
              "      <td>-0.196782</td>\n",
              "      <td>-0.115893</td>\n",
              "      <td>-0.094349</td>\n",
              "      <td>-0.278592</td>\n",
              "      <td>-0.057693</td>\n",
              "      <td>-0.139296</td>\n",
              "      <td>-1.302049</td>\n",
              "      <td>-1.652141</td>\n",
              "      <td>0.444809</td>\n",
              "      <td>0.700650</td>\n",
              "      <td>-1.096430</td>\n",
              "      <td>-0.040691</td>\n",
              "      <td>3</td>\n",
              "      <td>9</td>\n",
              "      <td>3</td>\n",
              "      <td>1356</td>\n",
              "    </tr>\n",
              "    <tr>\n",
              "      <th>3</th>\n",
              "      <td>False</td>\n",
              "      <td>1.485366</td>\n",
              "      <td>0.500243</td>\n",
              "      <td>1.694857</td>\n",
              "      <td>-0.500560</td>\n",
              "      <td>0.251567</td>\n",
              "      <td>-0.577743</td>\n",
              "      <td>-0.68792</td>\n",
              "      <td>0.775941</td>\n",
              "      <td>-0.043057</td>\n",
              "      <td>-0.094349</td>\n",
              "      <td>3.365634</td>\n",
              "      <td>-0.057693</td>\n",
              "      <td>1.822291</td>\n",
              "      <td>1.737469</td>\n",
              "      <td>1.081511</td>\n",
              "      <td>1.342319</td>\n",
              "      <td>0.700650</td>\n",
              "      <td>0.573999</td>\n",
              "      <td>-0.040691</td>\n",
              "      <td>0</td>\n",
              "      <td>21</td>\n",
              "      <td>3</td>\n",
              "      <td>15991</td>\n",
              "    </tr>\n",
              "    <tr>\n",
              "      <th>4</th>\n",
              "      <td>False</td>\n",
              "      <td>1.394540</td>\n",
              "      <td>-0.481355</td>\n",
              "      <td>0.114978</td>\n",
              "      <td>1.816579</td>\n",
              "      <td>-1.126935</td>\n",
              "      <td>-0.577743</td>\n",
              "      <td>-0.68792</td>\n",
              "      <td>-0.196782</td>\n",
              "      <td>-0.211806</td>\n",
              "      <td>-0.094349</td>\n",
              "      <td>-0.278592</td>\n",
              "      <td>-0.057693</td>\n",
              "      <td>0.078658</td>\n",
              "      <td>-1.302049</td>\n",
              "      <td>-0.052955</td>\n",
              "      <td>0.444809</td>\n",
              "      <td>0.700650</td>\n",
              "      <td>1.034807</td>\n",
              "      <td>-0.040691</td>\n",
              "      <td>2</td>\n",
              "      <td>1</td>\n",
              "      <td>3</td>\n",
              "      <td>18925</td>\n",
              "    </tr>\n",
              "  </tbody>\n",
              "</table>\n",
              "</div>"
            ],
            "text/plain": [
              "   target_default  ...  application_time_applied_encoded\n",
              "0           False  ...                             11345\n",
              "1           False  ...                              3704\n",
              "2            True  ...                              1356\n",
              "3           False  ...                             15991\n",
              "4           False  ...                             18925\n",
              "\n",
              "[5 rows x 24 columns]"
            ]
          },
          "metadata": {
            "tags": []
          },
          "execution_count": 14
        }
      ]
    },
    {
      "cell_type": "markdown",
      "metadata": {
        "id": "f3zN3rQszCGK"
      },
      "source": [
        "**CONSTRUÇÃO DO MODELO DE MACHINE LEARNING**\n",
        "\n",
        "O algoritmo escolhido para este caso foi o XGBoost, ele vem sendo bem utilizado para problemas similares a este. É um algoritmo baseado em árvore de decisão e que utiliza uma estrutura de Gradient boosting.\n",
        "\n",
        "* Lembrando que este dataset possui dados desbalanceados.\n",
        "\n",
        "Irei separar nossa classe (váriavel alvo) das demais variáveis, e também, dividir os dados em treino e teste com a função 'train_test_split'.\n",
        "\n"
      ]
    },
    {
      "cell_type": "code",
      "metadata": {
        "id": "ycvzURVBgter"
      },
      "source": [
        "#separar as variaveis independentes da variavel alvo\n",
        "x= encoded_df.drop('target_default', axis=1).select_dtypes(exclude='object')\n",
        "y= encoded_df['target_default']\n",
        "\n",
        "\n",
        "#dividir o dataset entre treino e teste\n",
        "x_train, x_test, y_train, y_test = train_test_split(x, y)\n",
        "\n",
        "#instanciando e treinando o modelo\n",
        "ml_model= XGBClassifier()\n",
        "ml_model.fit(x_train, y_train)\n",
        "\n",
        "#previsao e probabilidade encima do dataset de teste\n",
        "y_pred = ml_model.predict(x_test)\n"
      ],
      "execution_count": 35,
      "outputs": []
    },
    {
      "cell_type": "markdown",
      "metadata": {
        "id": "-tYKaNyPxZzL"
      },
      "source": [
        "Após a criação do modelo testamos a performance dele:"
      ]
    },
    {
      "cell_type": "code",
      "metadata": {
        "id": "WQ8n4a7ozuHG",
        "outputId": "9786166b-6b58-47ee-e35c-b56ac54a2f9b",
        "colab": {
          "base_uri": "https://localhost:8080/"
        }
      },
      "source": [
        "#ver performance\n",
        "print('Accuracy Score:')\n",
        "print(accuracy_score(y_test, y_pred))"
      ],
      "execution_count": 36,
      "outputs": [
        {
          "output_type": "stream",
          "text": [
            "Accuracy Score:\n",
            "0.838635492525872\n"
          ],
          "name": "stdout"
        }
      ]
    },
    {
      "cell_type": "markdown",
      "metadata": {
        "id": "u77gqoBLaYMJ"
      },
      "source": [
        "A acurácia não é uma métrica indicada em casos onde os dados estão desbalanceados. \n",
        "\n",
        "Abaixo mostrarei isso melhor:"
      ]
    },
    {
      "cell_type": "code",
      "metadata": {
        "id": "-_--kT9wuwms",
        "outputId": "586b684b-dea6-4a28-fe0c-ac824f73a9c4",
        "colab": {
          "base_uri": "https://localhost:8080/",
          "height": 465
        }
      },
      "source": [
        "#imprimir relatorio de classificação\n",
        "print(\"Relatório de Classificação:\\n\", classification_report(y_test, y_pred, digits=4))\n",
        "\n",
        "#matriz de confusao\n",
        "skplt.metrics.plot_confusion_matrix(y_test, y_pred, normalize=True)\n",
        "plt.show()"
      ],
      "execution_count": 37,
      "outputs": [
        {
          "output_type": "stream",
          "text": [
            "Relatório de Classificação:\n",
            "               precision    recall  f1-score   support\n",
            "\n",
            "       False     0.8404    0.9966    0.9119      8742\n",
            "        True     0.5714    0.0236    0.0454      1694\n",
            "\n",
            "    accuracy                         0.8386     10436\n",
            "   macro avg     0.7059    0.5101    0.4786     10436\n",
            "weighted avg     0.7968    0.8386    0.7712     10436\n",
            "\n"
          ],
          "name": "stdout"
        },
        {
          "output_type": "display_data",
          "data": {
            "image/png": "[encoded data removed]",
            "text/plain": [
              "<Figure size 432x288 with 2 Axes>"
            ]
          },
          "metadata": {
            "tags": [],
            "needs_background": "light"
          }
        }
      ]
    },
    {
      "cell_type": "markdown",
      "metadata": {
        "id": "cwiP327Ge0nR"
      },
      "source": [
        "Nota-se que em precision (precisão alcançada em cada classe) o modelo acertou 84% de casos False mas em contra partida acertou somente 57% dos casos True (clientes inamdiplente).\n",
        "\n",
        "Já o recall (número de acertos) para a classe False é muito alta mas para a classe True é quase zerada. \n",
        "\n",
        "Ou seja, o modelo aprendeu mais sobre a classe que ele tinha maiores quantidades de exemplos.\n",
        "\n",
        "Para melhorarmos este desempenho, irei *balancear os dados*. Para este projeto irei usar *dois métodos* e avaliar em qual o modelo se sairá melhor.\n"
      ]
    },
    {
      "cell_type": "markdown",
      "metadata": {
        "id": "ffPe68UbrLuu"
      },
      "source": [
        "**Balanceando os dados com a técnica SMOTE**\n",
        "\n",
        "Este método vai gerar dados sintéticos da classe minoritária a partir de vizinhos."
      ]
    },
    {
      "cell_type": "code",
      "metadata": {
        "id": "yuHNZ6SSnem8"
      },
      "source": [
        "from imblearn.over_sampling import SMOTE\n",
        "oversample = SMOTE()\n",
        "x_os, y_os = oversample.fit_resample(x, y)"
      ],
      "execution_count": 24,
      "outputs": []
    },
    {
      "cell_type": "code",
      "metadata": {
        "id": "0QGeRtLUtuXx",
        "outputId": "2651600c-134d-499e-bce1-9fcdc988c637",
        "colab": {
          "base_uri": "https://localhost:8080/",
          "height": 348
        }
      },
      "source": [
        "#grafico da nova distribuição de classes\n",
        "fig, ax = plt.subplots()\n",
        "sns.countplot(y_os, ax=ax)\n",
        "ax.set_title('Distribuição das Classes')\n",
        "plt.xlabel('Classe')\n",
        "plt.ylabel('Qtd de Transações')\n",
        "plt.tight_layout();\n",
        "\n",
        "#print do balanceamento\n",
        "print(pd.Series(y_os).value_counts())"
      ],
      "execution_count": 25,
      "outputs": [
        {
          "output_type": "stream",
          "text": [
            "True     35080\n",
            "False    35080\n",
            "dtype: int64\n"
          ],
          "name": "stdout"
        },
        {
          "output_type": "display_data",
          "data": {
            "image/png": "[encoded data removed]",
            "text/plain": [
              "<Figure size 432x288 with 1 Axes>"
            ]
          },
          "metadata": {
            "tags": [],
            "needs_background": "light"
          }
        }
      ]
    },
    {
      "cell_type": "markdown",
      "metadata": {
        "id": "vStY7P1Ix8Av"
      },
      "source": [
        "Após o balanceamento, instanciamos e testamos modelo novamente. Dessa vez mudarei alguns parametros do XGBoost."
      ]
    },
    {
      "cell_type": "code",
      "metadata": {
        "id": "8VI7-6Y6t0rG"
      },
      "source": [
        "#dividir o dataset entre treino e teste\n",
        "x_train, x_test, y_train, y_test = train_test_split(x_os, y_os)\n",
        "\n",
        "#instanciando e treinando o modelo\n",
        "ml_model= XGBClassifier(learning_rate=0.01, n_estimators= 100, max_depth=4,\n",
        "                        subsample = 0.8, colsample_bytree = 0.3, gamma=5,)\n",
        "ml_model.fit(x_train, y_train)\n",
        "\n",
        "#previsao e probabilidade encima do dataset de teste\n",
        "y_pred = ml_model.predict(x_test)\n"
      ],
      "execution_count": 26,
      "outputs": []
    },
    {
      "cell_type": "code",
      "metadata": {
        "id": "b8JyyXiet7kj",
        "outputId": "33392eac-f193-4084-cf96-9761c31380c7",
        "colab": {
          "base_uri": "https://localhost:8080/",
          "height": 465
        }
      },
      "source": [
        "#imprimir relatorio de classificação\n",
        "print(\"Relatório de Classificação:\\n\", classification_report(y_test, y_pred, digits=4))\n",
        "\n",
        "#matriz de confusao\n",
        "skplt.metrics.plot_confusion_matrix(y_test, y_pred, normalize=True)\n",
        "plt.show()\n"
      ],
      "execution_count": 27,
      "outputs": [
        {
          "output_type": "stream",
          "text": [
            "Relatório de Classificação:\n",
            "               precision    recall  f1-score   support\n",
            "\n",
            "       False     0.8204    0.9984    0.9007      8875\n",
            "        True     0.9979    0.7761    0.8731      8665\n",
            "\n",
            "    accuracy                         0.8886     17540\n",
            "   macro avg     0.9092    0.8873    0.8869     17540\n",
            "weighted avg     0.9081    0.8886    0.8871     17540\n",
            "\n"
          ],
          "name": "stdout"
        },
        {
          "output_type": "display_data",
          "data": {
            "image/png": "[encoded data removed]",
            "text/plain": [
              "<Figure size 432x288 with 2 Axes>"
            ]
          },
          "metadata": {
            "tags": [],
            "needs_background": "light"
          }
        }
      ]
    },
    {
      "cell_type": "markdown",
      "metadata": {
        "id": "u9u2mkwYenH2"
      },
      "source": [
        "Pelas métricas de avaliação o modelo atingiu ótimos resultados.\n",
        "\n",
        "A acurácia foi de 89%.\n",
        "\n",
        "Analisando esta matriz temos:\n",
        "\n",
        "* False Positive - 100%\n",
        "* False Negative - 22%\n",
        "* True Positive - 78% \n",
        "* True Negative - 0%\n",
        "\n",
        "\n",
        "Ou seja, das classificações onde eram falsos positivos o modelo acertou praticamente 100%, e falsos negativo o modelo errou em 22%.\n",
        "\n"
      ]
    },
    {
      "cell_type": "markdown",
      "metadata": {
        "id": "kB9Ro0e7tFwe"
      },
      "source": [
        " **Balanceando os dados com RandomUnderSampler**\n",
        "\n",
        " Este método reduz de forma aleatória os exemplos da classe majoritária."
      ]
    },
    {
      "cell_type": "code",
      "metadata": {
        "id": "dLr1QQFQqEZc"
      },
      "source": [
        "from imblearn.under_sampling import RandomUnderSampler\n",
        "\n",
        "rus = RandomUnderSampler()\n",
        "x_rus, y_rus = rus.fit_sample(x, y)"
      ],
      "execution_count": 28,
      "outputs": []
    },
    {
      "cell_type": "code",
      "metadata": {
        "id": "KTJgH-opqZrU",
        "outputId": "1daf9a51-b10f-4a90-8666-2be9b052a68e",
        "colab": {
          "base_uri": "https://localhost:8080/",
          "height": 348
        }
      },
      "source": [
        "#grafico da nova distribuição de classes\n",
        "fig, ax = plt.subplots()\n",
        "sns.countplot(y_rus, ax=ax)\n",
        "ax.set_title('Distribuição das Classes')\n",
        "plt.xlabel('Classe')\n",
        "plt.ylabel('Qtd de Transações')\n",
        "plt.tight_layout();\n",
        "\n",
        "#print do balanceamento\n",
        "print(pd.Series(y_rus).value_counts())"
      ],
      "execution_count": 29,
      "outputs": [
        {
          "output_type": "stream",
          "text": [
            "True     6661\n",
            "False    6661\n",
            "dtype: int64\n"
          ],
          "name": "stdout"
        },
        {
          "output_type": "display_data",
          "data": {
            "image/png": "[encoded data removed]",
            "text/plain": [
              "<Figure size 432x288 with 1 Axes>"
            ]
          },
          "metadata": {
            "tags": [],
            "needs_background": "light"
          }
        }
      ]
    },
    {
      "cell_type": "markdown",
      "metadata": {
        "id": "omW7z7Oleecl"
      },
      "source": [
        "Após o balanceamento, instanciamos e testamos novamente também."
      ]
    },
    {
      "cell_type": "code",
      "metadata": {
        "id": "hJfY5wzSqwsm"
      },
      "source": [
        "#dividir o dataset entre treino e teste\n",
        "x_train, x_test, y_train, y_test = train_test_split(x_rus, y_rus)\n",
        "\n",
        "#instanciando e treiando o modelo\n",
        "ml_model= XGBClassifier(learning_rate=0.01, n_estimators= 100, max_depth=4,\n",
        "                        subsample = 0.8, colsample_bytree = 0.3, gamma=5,)\n",
        "ml_model.fit(x_train, y_train)\n",
        "\n",
        "#previsao e probabilidade encima do dataset de teste\n",
        "y_pred = ml_model.predict(x_test)"
      ],
      "execution_count": 32,
      "outputs": []
    },
    {
      "cell_type": "code",
      "metadata": {
        "id": "08GaFs2sq_o3",
        "outputId": "392b4a84-24a5-4f25-f507-2719519fa9fd",
        "colab": {
          "base_uri": "https://localhost:8080/",
          "height": 465
        }
      },
      "source": [
        "#imprimir relatorio de classificação\n",
        "print(\"Relatório de Classificação:\\n\", classification_report(y_test, y_pred, digits=4))\n",
        "\n",
        "#plotar matriz de confusao\n",
        "skplt.metrics.plot_confusion_matrix(y_test, y_pred, normalize=True)\n",
        "plt.show()\n"
      ],
      "execution_count": 33,
      "outputs": [
        {
          "output_type": "stream",
          "text": [
            "Relatório de Classificação:\n",
            "               precision    recall  f1-score   support\n",
            "\n",
            "       False     0.6248    0.6921    0.6567      1653\n",
            "        True     0.6607    0.5906    0.6237      1678\n",
            "\n",
            "    accuracy                         0.6409      3331\n",
            "   macro avg     0.6427    0.6413    0.6402      3331\n",
            "weighted avg     0.6429    0.6409    0.6401      3331\n",
            "\n"
          ],
          "name": "stdout"
        },
        {
          "output_type": "display_data",
          "data": {
            "image/png": "[encoded data removed]",
            "text/plain": [
              "<Figure size 432x288 with 2 Axes>"
            ]
          },
          "metadata": {
            "tags": [],
            "needs_background": "light"
          }
        }
      ]
    },
    {
      "cell_type": "markdown",
      "metadata": {
        "id": "_rFdXcMfkQfk"
      },
      "source": [
        " Por aqui podemos ver que o modelo nao se comportou tão bem com o balanceamento efetuado.\n",
        "\n",
        " A acurácia do modelo foi de 64%.\n",
        "\n",
        " Vamos para matriz de confusão:\n",
        "\n",
        "* False Positive - 69%\n",
        "* False Negative - 31%\n",
        "* True Positive - 59% \n",
        "* True Negative - 41%\n",
        "\n",
        "\n",
        "Ou seja, das classificações onde eram falsos positivos o modelo acertou 66%, e falsos negativo o modelo errou em 41% (19% a mais do que o outro modelo)."
      ]
    },
    {
      "cell_type": "markdown",
      "metadata": {
        "id": "s2rfyq3n_BVi"
      },
      "source": [
        "**CONSIDERAÇÕES FINAIS**\n",
        "\n",
        "Usar um modelo de algoritmo para prever e/ou classificar, contribui em muito para um negócio, mas para que atinga bons resultados, à toda uma complexidade por trás. É preciso analisar com atenção os dados e usar boas ferramentas antes de partirmos para criação de um modelo e elas fazem toda a diferença. Essa etapa pode ser longa e cansativa mas vale por todo o esforço.\n",
        "\n",
        "Neste projeto pude ver isso na prática, a análise foi bem extensa e utilizei ferramentas que auxiliaram para que o modelo pudesse ser treinado e testado da melhor maneira, e ainda assim, alguns dos métodos utilizados nem sempre trazem resultados tão eficientes quanto precisamos.\n",
        "\n",
        " Finalizo enfatizando que todo modelo pode ser melhorado, melhor parametrizado e avaliado depois que os dados estejam preparados.\n"
      ]
    },
    {
      "cell_type": "code",
      "metadata": {
        "id": "efQsCCXg7j16"
      },
      "source": [
        ""
      ],
      "execution_count": null,
      "outputs": []
    }
  ]
}